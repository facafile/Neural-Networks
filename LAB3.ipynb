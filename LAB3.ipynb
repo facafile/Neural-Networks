{
  "cells": [
    {
      "cell_type": "markdown",
      "id": "ef67b941-48cd-48d2-8d5c-cf13adad0e06",
      "metadata": {
        "tags": [],
        "id": "ef67b941-48cd-48d2-8d5c-cf13adad0e06"
      },
      "source": [
        "# Laboratory exercise 3\n",
        "\n",
        "Required packages:\n",
        "* numpy\n",
        "* torch\n",
        "* torchvision\n",
        "* scikit-learn\n",
        "\n",
        "**Tasks that should be solved are given in the following sections:**\n",
        "* Section 5.3 The XOR problem\n",
        "* Section 5.4 The MNIST dataset\n",
        "* Section 6.1 Kernels\n",
        "* Section 6.2 Wine dataset\n",
        "* Section 6.3 Speed\n",
        "\n",
        "# Exercise 5: Multilayer perceptron\n",
        "\n",
        "The focus of this exercise will be on multilayer perceptron and to do that in a simpler way, an introduction to PyTorch is given first.\n",
        "\n",
        "## 5.1 Introduction to PyTorch\n",
        "\n",
        "We'll introduce Pytorch by quoting the [official documentation: ](https://pytorch.org/docs/stable/index.html)\n",
        "\n",
        "> \"PyTorch is an optimized tensor library for deep learning using GPUs and CPUs.\"\n",
        "\n",
        "PyTorch is [open source](https://github.com/pytorch/pytorch/tree/main#license) and [one of the most popular](https://www.kaggle.com/code/paultimothymooney/kaggle-survey-2022-all-results?scriptVersionId=107352619&cellId=45) machine learning libraries. It is simple to use and is well integrated into Python. We highly recommend that you read the [official quickstart tutorial](https://pytorch.org/tutorials/beginner/basics/quickstart_tutorial.html) to further familiarize yourself with PyTorch. For any additional clarification, we suggest that you examine the [official documentation](https://pytorch.org/docs/stable/index.html). This exercise is heavily based on the mentioned documents.\n",
        "\n",
        "We'll start by importing PyTorch and [NumPy](https://numpy.org/):"
      ]
    },
    {
      "cell_type": "code",
      "execution_count": 26,
      "id": "156000e0-2c28-4191-85dd-a7bcd0c06980",
      "metadata": {
        "tags": [],
        "id": "156000e0-2c28-4191-85dd-a7bcd0c06980"
      },
      "outputs": [],
      "source": [
        "import torch\n",
        "import numpy as np"
      ]
    },
    {
      "cell_type": "markdown",
      "id": "578ce6b4-0759-4ab9-b078-3bfb00ee555d",
      "metadata": {
        "tags": [],
        "id": "578ce6b4-0759-4ab9-b078-3bfb00ee555d"
      },
      "source": [
        "### 5.1.1 PyTorch basics\n",
        "The fundamental elements of PyTorch are tensors. They are used to encode the input data, output data and the parameters of the model. Tensors are n-dimensional arrays of a given type. They are quite similar to NumPy ndarrays and we can easily integrate Numpy ndarrays into PyTorch. We can define tensors in multiple ways - we'll start by defining tensors directly from data:"
      ]
    },
    {
      "cell_type": "code",
      "execution_count": 27,
      "id": "9772a52b-eddf-40bd-a725-b5f040c5452b",
      "metadata": {
        "tags": [],
        "id": "9772a52b-eddf-40bd-a725-b5f040c5452b"
      },
      "outputs": [],
      "source": [
        "data = [[1, 2],[3, 4]]\n",
        "x_data = torch.tensor(data)"
      ]
    },
    {
      "cell_type": "markdown",
      "id": "a68c2e39-a321-4f84-a8e7-504260fa2651",
      "metadata": {
        "tags": [],
        "id": "a68c2e39-a321-4f84-a8e7-504260fa2651"
      },
      "source": [
        "We can list the tensors attributes with the following commands:"
      ]
    },
    {
      "cell_type": "code",
      "execution_count": 28,
      "id": "281ee2d8-bac1-4c22-8f53-51ae1158649c",
      "metadata": {
        "tags": [],
        "colab": {
          "base_uri": "https://localhost:8080/"
        },
        "id": "281ee2d8-bac1-4c22-8f53-51ae1158649c",
        "outputId": "f5e89d6e-4eb4-428f-c268-d5c569359d70"
      },
      "outputs": [
        {
          "output_type": "stream",
          "name": "stdout",
          "text": [
            "Tensor shape    : torch.Size([2, 2])\n",
            "Tensor datatype : torch.int64\n",
            "Tensor device   : cpu\n"
          ]
        }
      ],
      "source": [
        "print(f\"Tensor shape    : {x_data.shape}\")\n",
        "print(f\"Tensor datatype : {x_data.dtype}\")\n",
        "print(f\"Tensor device   : {x_data.device}\")"
      ]
    },
    {
      "cell_type": "markdown",
      "id": "0197365f-130d-4fda-a5bd-19102df1900d",
      "metadata": {
        "tags": [],
        "id": "0197365f-130d-4fda-a5bd-19102df1900d"
      },
      "source": [
        "We can also create tensors using functions:"
      ]
    },
    {
      "cell_type": "code",
      "execution_count": 29,
      "id": "af81a059-0a9b-4fdd-8511-f164b38ef8c3",
      "metadata": {
        "tags": [],
        "id": "af81a059-0a9b-4fdd-8511-f164b38ef8c3"
      },
      "outputs": [],
      "source": [
        "shape = (2,3,)\n",
        "ones_tensor = torch.ones(shape)\n",
        "zeros_tensor = torch.zeros(shape)\n",
        "rand_tensor = torch.rand(shape) # samples from the uniform distribution on [0, 1)\n",
        "norm_tensor = torch.normal(0.0, 1.0, shape) # sample from the normal distribution with μ = 0, σ = 1"
      ]
    },
    {
      "cell_type": "markdown",
      "id": "651e35e1-8815-4381-b48d-b27901e51cd8",
      "metadata": {
        "tags": [],
        "id": "651e35e1-8815-4381-b48d-b27901e51cd8"
      },
      "source": [
        "We can also define tensors from a NumPy array:"
      ]
    },
    {
      "cell_type": "code",
      "execution_count": 30,
      "id": "eead4b08-076f-42bf-ba1b-c8f81c0da5e1",
      "metadata": {
        "tags": [],
        "id": "eead4b08-076f-42bf-ba1b-c8f81c0da5e1"
      },
      "outputs": [],
      "source": [
        "np_array = np.array(data)\n",
        "x_np = torch.from_numpy(np_array)"
      ]
    },
    {
      "cell_type": "markdown",
      "id": "67da95af-22a9-4c8e-88a2-fe63218bd881",
      "metadata": {
        "tags": [],
        "id": "67da95af-22a9-4c8e-88a2-fe63218bd881"
      },
      "source": [
        "And we can also define tensors using other tensors. The newly defined tensor will have the same properties as the argument tensor, unless we tell it to override some properties."
      ]
    },
    {
      "cell_type": "code",
      "execution_count": 31,
      "id": "e9d15088-9bc2-4d3f-94bb-6e2b77c7750c",
      "metadata": {
        "tags": [],
        "colab": {
          "base_uri": "https://localhost:8080/"
        },
        "id": "e9d15088-9bc2-4d3f-94bb-6e2b77c7750c",
        "outputId": "220b35e9-8b67-4bee-815d-01c58d551cbd"
      },
      "outputs": [
        {
          "output_type": "stream",
          "name": "stdout",
          "text": [
            "--- original tensor ----------------------------- new tensor ------------------\n",
            "x_data shape    : torch.Size([2, 2]) \t | x_ones shape    : torch.Size([2, 2])\n",
            "x_data datatype : torch.int64 \t\t | x_ones datatype : torch.int64\n",
            "x_data device   : cpu \t\t\t | x_ones device   : cpu\n",
            "-------------------------------------------------------------------------------\n",
            "x_data shape    : torch.Size([2, 2]) \t | x_rand shape    : torch.Size([2, 2])\n",
            "x_data datatype : torch.int64 \t\t | x_rand datatype : torch.float32\n",
            "x_data device   : cpu \t\t\t | x_rand device   : cpu\n"
          ]
        }
      ],
      "source": [
        "print('--- original tensor ----------------------------- new tensor ------------------')\n",
        "x_ones = torch.ones_like(x_data) # keeping the same properties\n",
        "print(f\"x_data shape    : {x_data.shape} \\t | x_ones shape    : {x_ones.shape}\")\n",
        "print(f\"x_data datatype : {x_data.dtype} \\t\\t | x_ones datatype : {x_ones.dtype}\")\n",
        "print(f\"x_data device   : {x_data.device} \\t\\t\\t | x_ones device   : {x_ones.device}\")\n",
        "\n",
        "print('-------------------------------------------------------------------------------')\n",
        "\n",
        "x_rand = torch.rand_like(x_data, dtype=torch.float) # overriding the datatype property\n",
        "print(f\"x_data shape    : {x_data.shape} \\t | x_rand shape    : {x_rand.shape}\")\n",
        "print(f\"x_data datatype : {x_data.dtype} \\t\\t | x_rand datatype : {x_rand.dtype}\")\n",
        "print(f\"x_data device   : {x_data.device} \\t\\t\\t | x_rand device   : {x_rand.device}\")"
      ]
    },
    {
      "cell_type": "markdown",
      "id": "71ae1124-49f6-4721-a513-055748c25d8b",
      "metadata": {
        "id": "71ae1124-49f6-4721-a513-055748c25d8b"
      },
      "source": [
        "### 5.1.2 Hardware acceleration\n",
        "You might wonder what does the `device` property describe? PyTorch follows a [simple and explicit design philosophy](https://pytorch.org/docs/stable/community/design.html#principle-2-simple-over-easy) and this is reflected in the way we allocate our tensors to actual hardware. By default, all tensors are allocated on the CPU and we have to manually move them to the GPU. [The official quickstart tutorial](https://pytorch.org/tutorials/beginner/basics/quickstart_tutorial.html#creating-models) shows us a nice and effective method of doing this:"
      ]
    },
    {
      "cell_type": "code",
      "execution_count": 32,
      "id": "76271498-9e24-459f-939a-73733ad76e04",
      "metadata": {
        "colab": {
          "base_uri": "https://localhost:8080/"
        },
        "id": "76271498-9e24-459f-939a-73733ad76e04",
        "outputId": "cb751480-f42e-4c6b-ea6f-d6a439a47e83"
      },
      "outputs": [
        {
          "output_type": "stream",
          "name": "stdout",
          "text": [
            "x_data shape    : torch.Size([2, 2])\n",
            "x_data datatype : torch.int64\n",
            "x_data device   : cuda:0\n"
          ]
        }
      ],
      "source": [
        "# check the device availability\n",
        "device = (\n",
        "    \"cuda\"\n",
        "    if torch.cuda.is_available()\n",
        "    else \"mps\"\n",
        "    if torch.backends.mps.is_available()\n",
        "    else \"cpu\"\n",
        ")\n",
        "\n",
        "# move the tensor to the device\n",
        "x_data = x_data.to(device)\n",
        "print(f\"x_data shape    : {x_data.shape}\")\n",
        "print(f\"x_data datatype : {x_data.dtype}\")\n",
        "print(f\"x_data device   : {x_data.device}\")"
      ]
    },
    {
      "cell_type": "markdown",
      "id": "a2ed2aad-fbf9-47c2-93df-76d250e39bf1",
      "metadata": {
        "id": "a2ed2aad-fbf9-47c2-93df-76d250e39bf1"
      },
      "source": [
        "Obviously you need to have the appropriate hardware and environment configuration in order to allow PyTorch to utilize your hardware. Depending on your environment, you will need to:\n",
        "* Local environment → install the appropriate device drivers\n",
        "  * depends on your operating system and the device you're using\n",
        "  * you will also need to install the PyTorch version that supports your hardware\n",
        "* Google Collab → enable hardware acceleration\n",
        "  * select `Runtime > Change runtime type`, then choose the appropriate hardware (ex. `T4 GPU`)"
      ]
    },
    {
      "cell_type": "markdown",
      "id": "d38a9f37-c1ee-4734-8ea7-b4bac2824100",
      "metadata": {
        "id": "d38a9f37-c1ee-4734-8ea7-b4bac2824100"
      },
      "source": [
        "### 5.1.3 Tensor operations\n",
        "PyTorch provides [a large number of tensor operations](https://pytorch.org/docs/stable/torch.html) that can be hardware accelerated. If you're familiar with NumPy, using these operations will feel quite natural. First let's try some arithmetic operations:"
      ]
    },
    {
      "cell_type": "code",
      "execution_count": 33,
      "id": "c3607d2e-22b6-47d8-ba70-e8139d6e13a0",
      "metadata": {
        "colab": {
          "base_uri": "https://localhost:8080/"
        },
        "id": "c3607d2e-22b6-47d8-ba70-e8139d6e13a0",
        "outputId": "01d6ef3a-7878-43a7-e53f-11e04526f9f1"
      },
      "outputs": [
        {
          "output_type": "stream",
          "name": "stdout",
          "text": [
            "starting tensor...\n",
            "tensor([[0.5411, 0.5229, 0.1736],\n",
            "        [0.8641, 0.0712, 0.2606]])\n",
            "added tensor...\n",
            "tensor([[1.0823, 1.0459, 0.3471],\n",
            "        [1.7282, 0.1424, 0.5213]])\n",
            "multiplied tensor...\n",
            "tensor([[5.4113, 5.2295, 1.7356],\n",
            "        [8.6410, 0.7120, 2.6064]])\n",
            "transposed tensor...\n",
            "tensor([[0.5411, 0.8641],\n",
            "        [0.5229, 0.0712],\n",
            "        [0.1736, 0.2606]])\n",
            "element-wise product tensor...\n",
            "tensor([[0.2928, 0.2735, 0.0301],\n",
            "        [0.7467, 0.0051, 0.0679]])\n",
            "matrix product tensor...\n",
            "tensor([[0.5964, 0.5501],\n",
            "        [0.5501, 0.8197]])\n"
          ]
        }
      ],
      "source": [
        "tensor = torch.rand_like(rand_tensor)\n",
        "\n",
        "add_tensor = tensor + tensor            # equivalent to torch.add(tensor, tensor)\n",
        "mul_tensor = tensor * 10                # equivalent to torch.mul(tensor, 10)\n",
        "\n",
        "trans_tensor = tensor.T                 # equivalent to torch.t*tensor)\n",
        "element_wise_product = tensor * tensor  # equivalent to torch.mul(tensor, tensor)\n",
        "matrix_product = tensor @ tensor.T      # equivalent to torch.matmul(tensor, tensor.T)\n",
        "\n",
        "print(\"starting tensor...\", tensor, sep='\\n')\n",
        "print(\"added tensor...\", add_tensor, sep='\\n')\n",
        "print(\"multiplied tensor...\", mul_tensor, sep='\\n')\n",
        "print(\"transposed tensor...\", trans_tensor, sep='\\n')\n",
        "print(\"element-wise product tensor...\", element_wise_product, sep='\\n')\n",
        "print(\"matrix product tensor...\", matrix_product, sep='\\n')"
      ]
    },
    {
      "cell_type": "markdown",
      "id": "0ed8d0cd-f534-40b0-89e3-97d77c505946",
      "metadata": {
        "id": "0ed8d0cd-f534-40b0-89e3-97d77c505946"
      },
      "source": [
        "PyTorch tensors can be indexed and sliced in a [similar way to NumPy ndarrays](https://numpy.org/devdocs/user/quickstart.html#indexing-slicing-and-iterating):"
      ]
    },
    {
      "cell_type": "code",
      "execution_count": 34,
      "id": "93475f33-f290-4f48-9936-62f7ad59bca0",
      "metadata": {
        "colab": {
          "base_uri": "https://localhost:8080/"
        },
        "id": "93475f33-f290-4f48-9936-62f7ad59bca0",
        "outputId": "6333169a-26b7-4791-d24f-68317ab2d285"
      },
      "outputs": [
        {
          "output_type": "stream",
          "name": "stdout",
          "text": [
            "starting tensor...\n",
            "tensor([[0.0365, 0.8712, 0.2085, 0.4330, 0.9718],\n",
            "        [0.3417, 0.0497, 0.0605, 0.8846, 0.8670],\n",
            "        [0.3852, 0.1425, 0.0343, 0.4277, 0.7576],\n",
            "        [0.1133, 0.2384, 0.6681, 0.8884, 0.5143],\n",
            "        [0.2063, 0.4743, 0.2672, 0.7702, 0.3455]])\n",
            "second_row ...\n",
            "tensor([0.3417, 0.0497, 0.0605, 0.8846, 0.8670])\n",
            "third collumn ...\n",
            "tensor([0.2085, 0.0605, 0.0343, 0.6681, 0.2672])\n",
            "second to last collumng...\n",
            "tensor([0.4330, 0.8846, 0.4277, 0.8884, 0.7702])\n",
            "assignment tensor...\n",
            "tensor([[ 1.,  1.,  1.,  1.,  1.],\n",
            "        [ 1., 10., 10.,  1.,  1.],\n",
            "        [ 1., 10., 10.,  1.,  1.],\n",
            "        [ 1.,  1.,  1.,  1.,  1.],\n",
            "        [ 1.,  1.,  1.,  1.,  1.]])\n"
          ]
        }
      ],
      "source": [
        "tensor = torch.rand(5, 5)\n",
        "second_row = tensor[1]\n",
        "third_collumn = tensor[:, 2]\n",
        "second_to_last_collumn = tensor[..., -2]\n",
        "assign_tesnor = torch.ones_like(tensor)\n",
        "assign_tesnor[1:3, 1:3] = 10 # multiple element assignment\n",
        "\n",
        "print(\"starting tensor...\", tensor, sep='\\n')\n",
        "print(\"second_row ...\", second_row, sep='\\n')\n",
        "print(\"third collumn ...\", third_collumn, sep='\\n')\n",
        "print(\"second to last collumng...\", second_to_last_collumn, sep='\\n')\n",
        "print(\"assignment tensor...\", assign_tesnor, sep='\\n')"
      ]
    },
    {
      "cell_type": "markdown",
      "id": "2bbe981b-8fb4-4dad-8a5d-26090c236df5",
      "metadata": {
        "id": "2bbe981b-8fb4-4dad-8a5d-26090c236df5"
      },
      "source": [
        "Operations with the `_` suffix denote the in-place operations. They will store the resulting tensor into the argument tensor."
      ]
    },
    {
      "cell_type": "code",
      "execution_count": 35,
      "id": "f4e4d1a7-940a-4d1c-b89f-893ec58c0a50",
      "metadata": {
        "colab": {
          "base_uri": "https://localhost:8080/"
        },
        "id": "f4e4d1a7-940a-4d1c-b89f-893ec58c0a50",
        "outputId": "3402826a-b5af-4881-899d-5509a6a26725"
      },
      "outputs": [
        {
          "output_type": "execute_result",
          "data": {
            "text/plain": [
              "tensor([[ 10.,  10.,  10.,  10.,  10.],\n",
              "        [ 10., 100., 100.,  10.,  10.],\n",
              "        [ 10., 100., 100.,  10.,  10.],\n",
              "        [ 10.,  10.,  10.,  10.,  10.],\n",
              "        [ 10.,  10.,  10.,  10.,  10.]])"
            ]
          },
          "metadata": {},
          "execution_count": 35
        }
      ],
      "source": [
        "assign_tesnor.mul_(10)"
      ]
    },
    {
      "cell_type": "markdown",
      "id": "2960bc31-691f-4bd1-b325-7e0ae7579913",
      "metadata": {
        "id": "2960bc31-691f-4bd1-b325-7e0ae7579913"
      },
      "source": [
        "### 5.1.4 Datasets and dataloaders\n",
        "Even though we can store our data directly into tensors and work directly with them, a preferred method for working with data is to use the `Dataset` and `Dataloader` objects. This will also allow us to decouple our data loading code from the model training code. In order to load our data, we have to create a new class that extends the `Dataset` class. We also need to implement the following methods:\n",
        "\n",
        "* `__init__` - initializes the `Dataset` object\n",
        "* `__len__` - returns the number of samples in our object\n",
        "* `__getitem__` - returns the sample for a given index *(remember to return the (input, output) pair)*\n",
        "\n",
        "Let's generate a synthetic dataset that we'll later use for our simple linear regression model. Our dataset will have 100 samples. The input will be a 3-dimensional tensor, and the output will be a 1-dimensional tensor. The inputs will be normally distributed ($\\mu = 0$, $\\sigma = 1$) and our model will be defined with the following expression : $y=\\mathbf{w}^{T}\\mathbf{x}+\\mathbf{b}$.\n",
        "\n",
        "We'll start by defining our custom dataset class:"
      ]
    },
    {
      "cell_type": "code",
      "execution_count": 36,
      "id": "5748125b-7011-4f42-adc3-9abdf062f55d",
      "metadata": {
        "id": "5748125b-7011-4f42-adc3-9abdf062f55d"
      },
      "outputs": [],
      "source": [
        "from torch.utils.data import Dataset\n",
        "\n",
        "class CustomDatasetAlpha(Dataset):                                    # extending the Dataset class ...\n",
        "    def __init__(self, number_of_samples, weights, bias):             # our dataset is defined by:\n",
        "        self.number_of_samples = number_of_samples                    #  - the number of samples\n",
        "        self.weights = weights                                        #  - the weights vector\n",
        "        self.bias = bias                                              #  - the bias vector\n",
        "\n",
        "        self.x_input = torch.normal(0.0, 1.0, (number_of_samples, 3)) # sampling our inputs\n",
        "\n",
        "    def __len__(self):\n",
        "        return self.number_of_samples\n",
        "\n",
        "    def __getitem__(self, index):\n",
        "        # we're assuming that our input and weights are\n",
        "        # represented as row vectors. Therefore, we'll\n",
        "        # calculate the dot product as such:\n",
        "        input = self.x_input[index]\n",
        "        output = self.x_input[index] @ self.weights.T + self.bias     # the model expression\n",
        "        return input, output"
      ]
    },
    {
      "cell_type": "markdown",
      "id": "07e973ac-e949-464d-bcf9-5422f87b7b03",
      "metadata": {
        "id": "07e973ac-e949-464d-bcf9-5422f87b7b03"
      },
      "source": [
        "After we've defined our dataset, we can instantiate it with the following:"
      ]
    },
    {
      "cell_type": "code",
      "execution_count": 37,
      "id": "459085ab-8a8f-4f05-bc37-8bfa38c687d0",
      "metadata": {
        "id": "459085ab-8a8f-4f05-bc37-8bfa38c687d0"
      },
      "outputs": [],
      "source": [
        "weights = torch.tensor([9.0, 8.0, 7.0])\n",
        "bias = torch.tensor([5.0])\n",
        "dataset = CustomDatasetAlpha(100, weights, bias)"
      ]
    },
    {
      "cell_type": "markdown",
      "id": "7a47a39e-831e-4880-b366-3c7b104f0c38",
      "metadata": {
        "id": "7a47a39e-831e-4880-b366-3c7b104f0c38"
      },
      "source": [
        "We can access our data by simply indexing our dataset:"
      ]
    },
    {
      "cell_type": "code",
      "execution_count": 38,
      "id": "60f73f0d-9865-4e1c-ae1a-da8747f11c76",
      "metadata": {
        "colab": {
          "base_uri": "https://localhost:8080/"
        },
        "id": "60f73f0d-9865-4e1c-ae1a-da8747f11c76",
        "outputId": "d5766d91-4674-4f01-eff3-bba90ec5e4f4"
      },
      "outputs": [
        {
          "output_type": "stream",
          "name": "stdout",
          "text": [
            "6th samples of the dataset\n",
            "(tensor([-1.2060, -0.0449,  1.3157]), tensor([2.9962]))\n",
            "last 5 samples of the dataset\n",
            "(tensor([[-0.0215, -0.8059,  0.1585],\n",
            "        [ 0.7362,  1.2474, -0.0926],\n",
            "        [ 1.3006,  0.2232,  0.9698],\n",
            "        [ 2.0872, -1.3975,  0.3250],\n",
            "        [ 2.1436,  1.3676,  0.3981]]), tensor([-0.5314, 20.9561, 25.2795, 14.8800, 38.0200]))\n"
          ]
        },
        {
          "output_type": "stream",
          "name": "stderr",
          "text": [
            "<ipython-input-36-927e64b5229c>:19: UserWarning: The use of `x.T` on tensors of dimension other than 2 to reverse their shape is deprecated and it will throw an error in a future release. Consider `x.mT` to transpose batches of matrices or `x.permute(*torch.arange(x.ndim - 1, -1, -1))` to reverse the dimensions of a tensor. (Triggered internally at ../aten/src/ATen/native/TensorShape.cpp:3614.)\n",
            "  output = self.x_input[index] @ self.weights.T + self.bias     # the model expression\n"
          ]
        }
      ],
      "source": [
        "print(\"6th samples of the dataset\")\n",
        "print(dataset[5])\n",
        "\n",
        "print(\"last 5 samples of the dataset\")\n",
        "print(dataset[-6:-1])"
      ]
    },
    {
      "cell_type": "markdown",
      "id": "b62eb917-46c2-4167-9b66-1ab65de8f2ed",
      "metadata": {
        "id": "b62eb917-46c2-4167-9b66-1ab65de8f2ed"
      },
      "source": [
        "With our `Dataset` object we can access our samples directly. We could implement additional methods for obtaining multiple samples, data shuffling,... but instead we can use the useful `DataLoader` class that will abstract this complexity for us. This can be done with the following:"
      ]
    },
    {
      "cell_type": "code",
      "execution_count": 39,
      "id": "77078ea1-3d05-4f1c-b991-16270bb71127",
      "metadata": {
        "colab": {
          "base_uri": "https://localhost:8080/"
        },
        "id": "77078ea1-3d05-4f1c-b991-16270bb71127",
        "outputId": "28e01d7a-c8c6-4e45-e5a4-a2a5aec0d3bb"
      },
      "outputs": [
        {
          "output_type": "stream",
          "name": "stdout",
          "text": [
            "current batch inputs :\n",
            "tensor([[ 1.3006,  0.2232,  0.9698],\n",
            "        [-0.0846,  0.1091, -1.6462],\n",
            "        [ 2.1436,  1.3676,  0.3981],\n",
            "        [ 0.3452,  0.1791,  0.1246],\n",
            "        [ 1.9598, -1.7605,  0.4544],\n",
            "        [ 0.4504, -2.1159,  0.7853],\n",
            "        [-0.1344,  1.4024,  0.3675],\n",
            "        [-0.7611, -0.3820,  0.2597]])\n",
            "current batch outputs :\n",
            "tensor([[25.2795],\n",
            "        [-6.4126],\n",
            "        [38.0200],\n",
            "        [10.4118],\n",
            "        [11.7343],\n",
            "        [-2.3772],\n",
            "        [17.5819],\n",
            "        [-3.0878]])\n"
          ]
        }
      ],
      "source": [
        "from torch.utils.data import DataLoader\n",
        "\n",
        "dataloader = DataLoader(dataset, batch_size=8, shuffle=True)\n",
        "\n",
        "# iterating trough the DataLoader\n",
        "for batch_x, batch_y in dataloader:\n",
        "    print(\"current batch inputs :\", batch_x, sep='\\n')\n",
        "    print(\"current batch outputs :\", batch_y, sep='\\n')\n",
        "\n",
        "    # we'll break after the first iteration in order to\n",
        "    # minimize the printed output\n",
        "    break"
      ]
    },
    {
      "cell_type": "markdown",
      "id": "2b9f8bba-b9df-4fe6-96d7-f2b42d2f3db5",
      "metadata": {
        "id": "2b9f8bba-b9df-4fe6-96d7-f2b42d2f3db5"
      },
      "source": [
        "If you re-run the previous cell you should see different samples in our batch, since we've set the `shuffle` flag to be true. Hopefully this demonstrates the usefulness of the `DataLoader` class. Feel free to explore [other flags](https://pytorch.org/docs/stable/data.html#torch.utils.data.DataLoader) and other [data loading utilities](https://pytorch.org/docs/stable/data.html#module-torch.utils.data).\n",
        "\n",
        "When it comes to loading images, PyTorch provides an additional library named `torchvision` that contains a lot helpful functions for working with images. It also contains a lot of popular datasets and model architectures that are commonly used in computer vision. If you're interested in loading your own images, check out the official [Datasets & DataLoaders tutorial](https://pytorch.org/tutorials/beginner/basics/data_tutorial.html#creating-a-custom-dataset-for-your-files). We'll use `torchvision` later on in this exercise in order to load [the MNIST dataset](http://yann.lecun.com/exdb/mnist/), a quite popular image dataset for testing our machine learning models.\n"
      ]
    },
    {
      "cell_type": "markdown",
      "id": "cfa63ba5-522a-4b88-9177-33ad049c09c3",
      "metadata": {
        "id": "cfa63ba5-522a-4b88-9177-33ad049c09c3"
      },
      "source": [
        "### 5.1.5 Models\n",
        "Now we'll discuss how to create our models using PyTorch. All models in PyTorch extend the `nn.Module` class, similarly how datasets extend the `Dataset` class. During the initialization of the model, we'll define our network's architecture. We'll also define the `forward` method that will calculate the forward pass of our network. Let's start by defining a simple linear regression model:"
      ]
    },
    {
      "cell_type": "code",
      "execution_count": 40,
      "id": "61cbe5a7-ad20-4044-aaaa-dda1067c2e41",
      "metadata": {
        "id": "61cbe5a7-ad20-4044-aaaa-dda1067c2e41"
      },
      "outputs": [],
      "source": [
        "from torch import nn\n",
        "\n",
        "class NeuralNetworkAlpha(nn.Module):          # extending the nn.Module...\n",
        "    def __init__(self):                       # we won't need any additional parameters\n",
        "        super().__init__()                    # calling the constructor of the parent class\n",
        "        self.linear_layer = nn.Linear(3, 1)   # linear layer with input size of 3, output size of 1\n",
        "                                              # to model linear regression\n",
        "\n",
        "    def forward(self, x):                     # defining the forward pass\n",
        "        return self.linear_layer(x)"
      ]
    },
    {
      "cell_type": "markdown",
      "id": "1822e26c-8f35-45a4-944e-c91daaea1656",
      "metadata": {
        "id": "1822e26c-8f35-45a4-944e-c91daaea1656"
      },
      "source": [
        "Recall that a single layered neural network with linear activation models linear regression. PyTorch provides [a large ammount of layers](https://pytorch.org/docs/stable/nn.html) and we will give a list of commonly used ones:\n",
        "* [`Linear`](https://pytorch.org/docs/stable/generated/torch.nn.Linear.html#torch.nn.Linear) - defines a layer with linear activation function\n",
        "* [`ReLU`](https://pytorch.org/docs/stable/generated/torch.nn.ReLU.html#torch.nn.ReLU) - defines a layer with ReLu activation function\n",
        "* [`Sigmoid`](https://pytorch.org/docs/stable/generated/torch.nn.Sigmoid.html#torch.nn.Sigmoid) - defines a layer with sigmoid activation function\n",
        "* [`Conv2d`](https://pytorch.org/docs/stable/generated/torch.nn.Conv2d.html#torch.nn.Conv2d) - defines a 2D convolutional layer\n",
        "* [`Sequential`](https://pytorch.org/docs/stable/generated/torch.nn.Sequential.html#torch.nn.Sequential) - defines a sequential container which can take other layers and will apply them sequentially\n",
        "* [`Flatten`](https://pytorch.org/docs/stable/generated/torch.nn.Flatten.html#torch.nn.Flatten) - defines a layer that will flatten a multiple dimensional tensor into a single dimension\n",
        "\n",
        "We'll use some of these layers later on in this exercise. Let's continue by instantiating our network and calculating the output:"
      ]
    },
    {
      "cell_type": "code",
      "execution_count": 41,
      "id": "1b256c9e-8468-4a47-aaf9-7a18a7cd8143",
      "metadata": {
        "colab": {
          "base_uri": "https://localhost:8080/"
        },
        "id": "1b256c9e-8468-4a47-aaf9-7a18a7cd8143",
        "outputId": "2ee19e1a-96eb-46ed-fc48-87ed5b5e7a8a"
      },
      "outputs": [
        {
          "output_type": "stream",
          "name": "stdout",
          "text": [
            "structure of our network...\n",
            "NeuralNetworkAlpha(\n",
            "  (linear_layer): Linear(in_features=3, out_features=1, bias=True)\n",
            ")\n",
            "first dataset sample...\n",
            "tensor([-0.0364, -0.7163, -0.2187])\n",
            "target...\n",
            "tensor([-2.5884])\n",
            "network's output for the first dataset sample...\n",
            "tensor([-0.0081], device='cuda:0', grad_fn=<ViewBackward0>)\n"
          ]
        }
      ],
      "source": [
        "# we create our network and move it to previously defined device\n",
        "network = NeuralNetworkAlpha().to(device)\n",
        "print(\"structure of our network...\", network, sep='\\n')\n",
        "\n",
        "print(\"first dataset sample...\")\n",
        "print(dataset[0][0])\n",
        "print(\"target...\")\n",
        "print(dataset[0][1])\n",
        "print(\"network's output for the first dataset sample...\")\n",
        "print(network(dataset[0][0].to(device)))"
      ]
    },
    {
      "cell_type": "markdown",
      "id": "f2346f00-a518-49cc-bbd9-d4be922c8247",
      "metadata": {
        "id": "f2346f00-a518-49cc-bbd9-d4be922c8247"
      },
      "source": [
        "We can inspect the network's parameters with the following:"
      ]
    },
    {
      "cell_type": "code",
      "execution_count": 42,
      "id": "dad369cf-49f1-4cd9-9c3f-39fb7f2429a6",
      "metadata": {
        "colab": {
          "base_uri": "https://localhost:8080/"
        },
        "id": "dad369cf-49f1-4cd9-9c3f-39fb7f2429a6",
        "outputId": "87d8c2f4-295c-40db-ff17-7391c96705d4"
      },
      "outputs": [
        {
          "output_type": "stream",
          "name": "stdout",
          "text": [
            "linear_layer.weight Parameter containing:\n",
            "tensor([[0.0026, 0.5348, 0.5371]], device='cuda:0', requires_grad=True)\n",
            "linear_layer.bias Parameter containing:\n",
            "tensor([0.4926], device='cuda:0', requires_grad=True)\n"
          ]
        }
      ],
      "source": [
        "for name, param in network.named_parameters():\n",
        "    print(name, param)\n"
      ]
    },
    {
      "cell_type": "markdown",
      "id": "3db19f30-a687-4ade-8e01-39b5be4e7e42",
      "metadata": {
        "id": "3db19f30-a687-4ade-8e01-39b5be4e7e42"
      },
      "source": [
        "We can see the values of parameters for each layer *(if you want a small exercise, manually verify that the output of our network was correct)*. Let's proceed with this exercise and see how we can use PyTorch to train our network."
      ]
    },
    {
      "cell_type": "markdown",
      "id": "e07e4b18-bf0e-4ed1-8be1-124be3211d11",
      "metadata": {
        "id": "e07e4b18-bf0e-4ed1-8be1-124be3211d11"
      },
      "source": [
        "### 5.1.6 Parameter optimization\n",
        "In order to optimize our network using back propagation, we'll need to compute the gradients of the loss function with respect towards each parameter. PyTorch allows us to achieve this with automatic differentiation using `torch.autograd`, it's built-in differentiation engine. If we look back at the previous code cell, we can see that the layers of the network are tensors which have the property `requires_grad` equal to true. This makes the tensor's gradients available to be computed and allows PyTorch to calculate the backward pass for our network. If you want to learn more about the details of gradient calculation, check out the official [Autograd tutorial](https://pytorch.org/tutorials/beginner/basics/autogradqs_tutorial.html).\n",
        "\n",
        "Let's use the [mean squared error](https://pytorch.org/docs/stable/generated/torch.nn.MSELoss.html#torch.nn.MSELoss) as our loss function and compute the gradients for the first dataset sample:"
      ]
    },
    {
      "cell_type": "code",
      "execution_count": 43,
      "id": "e1a2d9e2-0c48-419d-b42a-97d8513898df",
      "metadata": {
        "colab": {
          "base_uri": "https://localhost:8080/"
        },
        "id": "e1a2d9e2-0c48-419d-b42a-97d8513898df",
        "outputId": "bc64a652-c761-4ff6-e32b-a852e3a6e868"
      },
      "outputs": [
        {
          "output_type": "stream",
          "name": "stdout",
          "text": [
            "first sample...\n",
            "(tensor([-0.0364, -0.7163, -0.2187]), tensor([-2.5884]))\n",
            "first prediction...\n",
            "tensor([-0.0081], device='cuda:0', grad_fn=<ViewBackward0>)\n",
            "MSE loss :  tensor(6.6581, device='cuda:0', grad_fn=<MseLossBackward0>)\n",
            "gradient of :  linear_layer.weight tensor([[-0.1876, -3.6966, -1.1285]], device='cuda:0')\n",
            "gradient of :  linear_layer.bias tensor([5.1607], device='cuda:0')\n"
          ]
        }
      ],
      "source": [
        "loss_fn = torch.nn.MSELoss()\n",
        "\n",
        "first_sample = dataset[0]\n",
        "\n",
        "first_prediction = network(first_sample[0].to(device))              # forward\n",
        "first_loss = loss_fn(first_sample[1].to(device), first_prediction)   # pass\n",
        "\n",
        "print(\"first sample...\", first_sample, sep='\\n')\n",
        "print(\"first prediction...\", first_prediction, sep='\\n')\n",
        "print(\"MSE loss : \", first_loss)\n",
        "\n",
        "first_loss.backward()                                   # backward pass\n",
        "\n",
        "for name, param in network.named_parameters():\n",
        "    print(\"gradient of : \", name, param.grad)          # printing the gradients"
      ]
    },
    {
      "cell_type": "markdown",
      "id": "5a8aa82f-fa81-4c20-bc77-d920bc015115",
      "metadata": {
        "id": "5a8aa82f-fa81-4c20-bc77-d920bc015115"
      },
      "source": [
        "We can see that our network's parameters are stored in the `param.grad` attribute. It is important to see how we've used the loss function:\n",
        "1) `loss_fn` - what our loss function is\n",
        "2) `first_loss` - represents the loss for given network predictions and ground truths\n",
        "3) `first_loss.backward` - propagating the gradients to our parameters\n",
        "\n",
        "Hopefully this demonstrates how PyTorch calculates and propagates the gradients of our loss function.\n",
        "\n",
        "Now we need to apply these gradients to our parameters. This is done with [an `Optimizer`](https://pytorch.org/docs/stable/optim.html). When defining an optimizer we need to provide it with parameters that should be optimized. In our case, these are the network's parameters. PyTorch provides [many optimization algorithms](https://pytorch.org/docs/stable/optim.html#algorithms) that apply gradients to our parameters. We'll use [stochastic gradient descent](https://pytorch.org/docs/stable/generated/torch.optim.SGD.html#torch.optim.SGD) as our optimizer. Let's instantiate our network, redefine our data loader, initialize the optimizer and define our hyperparameters:"
      ]
    },
    {
      "cell_type": "code",
      "execution_count": 44,
      "id": "195904a3-d370-4003-9d54-3dda9fc7ab6e",
      "metadata": {
        "id": "195904a3-d370-4003-9d54-3dda9fc7ab6e"
      },
      "outputs": [],
      "source": [
        "from torch.optim import SGD\n",
        "\n",
        "# defining the hyperparameters\n",
        "epochs, learning_rate, batch_size = 100, 0.1, 100\n",
        "\n",
        "# redefining the dataloader with the new batch size\n",
        "dataloader = DataLoader(dataset, batch_size=batch_size, shuffle = True)\n",
        "\n",
        "# instantiating our network\n",
        "network = NeuralNetworkAlpha().to(device)\n",
        "\n",
        "# defining our optimizer for our network's parameters\n",
        "optimizer = SGD(network.parameters(), lr = learning_rate)"
      ]
    },
    {
      "cell_type": "markdown",
      "id": "69c94050-a44e-4366-8d36-349777633479",
      "metadata": {
        "id": "69c94050-a44e-4366-8d36-349777633479"
      },
      "source": [
        "Finally we need to iterate over our whole dataset and repeat the whole process - this is our training loop. Let's proceed with defining our training loop:"
      ]
    },
    {
      "cell_type": "code",
      "execution_count": 45,
      "id": "45bb05d3-ffa9-4f83-93b0-0eb547498f6e",
      "metadata": {
        "colab": {
          "base_uri": "https://localhost:8080/"
        },
        "id": "45bb05d3-ffa9-4f83-93b0-0eb547498f6e",
        "outputId": "0e731471-8917-4981-bb94-00e72cb693cb"
      },
      "outputs": [
        {
          "output_type": "stream",
          "name": "stdout",
          "text": [
            "Epoch 9 average loss : 0.05851142108440399\n",
            "Epoch 19 average loss : 0.0014694025740027428\n",
            "Epoch 29 average loss : 4.462502329261042e-05\n",
            "Epoch 39 average loss : 1.5142626352826483e-06\n",
            "Epoch 49 average loss : 5.4322843112686314e-08\n",
            "Epoch 59 average loss : 1.9997965505780257e-09\n",
            "Epoch 69 average loss : 7.543517893671137e-11\n",
            "Epoch 79 average loss : 2.870649464664643e-12\n",
            "Epoch 89 average loss : 1.5564864664068673e-13\n",
            "Epoch 99 average loss : 9.385416434911503e-14\n"
          ]
        }
      ],
      "source": [
        "for epoch in range(epochs):\n",
        "    # set the network to training mode\n",
        "    network.train()\n",
        "\n",
        "    epoch_loss = 0\n",
        "    number_of_samples = len(dataloader.dataset)\n",
        "\n",
        "    for batch, (X, y) in enumerate(dataloader):\n",
        "        # forward pass\n",
        "        X,y = X.to(device), y.to(device)\n",
        "        preds = network(X)\n",
        "        loss = loss_fn(y, preds)\n",
        "\n",
        "\n",
        "        # backward pass\n",
        "        loss.backward()\n",
        "        optimizer.step()\n",
        "\n",
        "        # reseting the gradients\n",
        "        optimizer.zero_grad()\n",
        "\n",
        "        # updating the epoch loss with the current batch loss\n",
        "        epoch_loss += loss\n",
        "\n",
        "    # printing the loss value for every 10th epoch\n",
        "    if (epoch+1) % 10 == 0:\n",
        "        print(f\"Epoch {epoch} average loss : {epoch_loss/number_of_samples}\")"
      ]
    },
    {
      "cell_type": "markdown",
      "id": "e8d1edeb-416b-44b1-bfcf-5305e0dd28ef",
      "metadata": {
        "id": "e8d1edeb-416b-44b1-bfcf-5305e0dd28ef"
      },
      "source": [
        "We can see that the value of the loss function is decreasing, meaning that our network's parameters are being optimized for our training dataset. If we inspect the parameter values of our network:"
      ]
    },
    {
      "cell_type": "code",
      "execution_count": 46,
      "id": "636bfdf1-d688-4866-b017-9a3d1d19812d",
      "metadata": {
        "colab": {
          "base_uri": "https://localhost:8080/"
        },
        "id": "636bfdf1-d688-4866-b017-9a3d1d19812d",
        "outputId": "016cd543-9630-40c0-cc9a-ac560b31043a"
      },
      "outputs": [
        {
          "output_type": "stream",
          "name": "stdout",
          "text": [
            "linear_layer.weight Parameter containing:\n",
            "tensor([[9.0000, 8.0000, 7.0000]], device='cuda:0', requires_grad=True)\n",
            "linear_layer.bias Parameter containing:\n",
            "tensor([5.0000], device='cuda:0', requires_grad=True)\n"
          ]
        }
      ],
      "source": [
        "for name, param in network.named_parameters():\n",
        "    print(name, param)"
      ]
    },
    {
      "cell_type": "markdown",
      "id": "41020072-a3d0-41c5-a211-47071e91fd0e",
      "metadata": {
        "id": "41020072-a3d0-41c5-a211-47071e91fd0e"
      },
      "source": [
        "We can see that we've achieved the same values that we used for our synthetic dataset.\n",
        "\n",
        "You might wonder why we've called `network.train()` inside our training loop? This is a best practice according to [the official documentation](https://pytorch.org/docs/stable/notes/autograd.html#evaluation-mode-nn-module-eval) :\n",
        "> It is recommended that you always use `model.train()` when training and `model.eval()` when evaluating your model (validation/testing) even if you aren’t sure your model has training-mode specific behavior, because a module you are using might be updated to behave differently in training and eval modes.\n",
        "\n",
        "This concludes our introduction to PyTorch."
      ]
    },
    {
      "cell_type": "markdown",
      "id": "cc69d9a1-3ea2-4f90-b84b-313fa238e025",
      "metadata": {
        "id": "cc69d9a1-3ea2-4f90-b84b-313fa238e025"
      },
      "source": [
        "## 5.3 The XOR problem\n",
        "\n",
        "XOR samples are not linearly separable. However, they can be separated by introducing non-linearities with our activation function. We'll start by defining our dataset using a helpful wrapper [TensorDataset](https://pytorch.org/docs/stable/data.html#torch.utils.data.TensorDataset):"
      ]
    },
    {
      "cell_type": "code",
      "execution_count": 47,
      "id": "80155416-60f7-43f5-98ee-e94a972903a6",
      "metadata": {
        "id": "80155416-60f7-43f5-98ee-e94a972903a6"
      },
      "outputs": [],
      "source": [
        "from torch.utils.data.dataset import TensorDataset\n",
        "\n",
        "xor_in = torch.tensor([\n",
        "    [0, 0],\n",
        "    [0, 1],\n",
        "    [1, 0],\n",
        "    [1, 1]], dtype = torch.float)\n",
        "\n",
        "xor_out = torch.tensor([0, 1, 1, 0], dtype = torch.float) # it is important to use the correct datatype\n",
        "xor_dataset = TensorDataset(xor_in, xor_out)"
      ]
    },
    {
      "cell_type": "markdown",
      "id": "e292821d-be45-4425-b11c-c7491dc8d179",
      "metadata": {
        "id": "e292821d-be45-4425-b11c-c7491dc8d179"
      },
      "source": [
        "Now we'll define our network using a [Sequential container](https://pytorch.org/docs/stable/generated/torch.nn.Sequential.html#sequential) for our layers. Our network is also parameterized by a given activation function."
      ]
    },
    {
      "cell_type": "code",
      "execution_count": 48,
      "id": "4aa4c26a-6296-40c7-8a9a-1efc28e950b4",
      "metadata": {
        "id": "4aa4c26a-6296-40c7-8a9a-1efc28e950b4"
      },
      "outputs": [],
      "source": [
        "class XORNetwork(nn.Module):\n",
        "    def __init__(self, activation_func):\n",
        "        super().__init__()\n",
        "        self.layer_stack = nn.Sequential(\n",
        "            nn.Linear(2, 2),\n",
        "            activation_func(),\n",
        "            nn.Linear(2, 1)\n",
        "            )\n",
        "\n",
        "    def forward(self, x):\n",
        "        return self.layer_stack(x)"
      ]
    },
    {
      "cell_type": "markdown",
      "id": "21d23429-9e23-4488-92f1-585591dd5f8b",
      "metadata": {
        "id": "21d23429-9e23-4488-92f1-585591dd5f8b"
      },
      "source": [
        "Let's instantiate our network, redefine our data loader and loss function, initialize the optimizer and define our hyperparameters:"
      ]
    },
    {
      "cell_type": "code",
      "execution_count": 49,
      "id": "e084138f-af7a-45a4-98a9-442d9638e011",
      "metadata": {
        "id": "e084138f-af7a-45a4-98a9-442d9638e011"
      },
      "outputs": [],
      "source": [
        "from torch.optim import Adam\n",
        "from torch.optim import SGD\n",
        "\n",
        "# defining the hyperparameters\n",
        "epochs, learning_rate, batch_size = 10000, 0.1, 1\n",
        "\n",
        "# defining the dataloader\n",
        "xor_dataloader = DataLoader(xor_dataset, batch_size=batch_size, shuffle=True)\n",
        "\n",
        "# defining the activation function\n",
        "activation_func = nn.Tanh\n",
        "\n",
        "# instantiating the network\n",
        "xor_network = XORNetwork(activation_func).to(device)\n",
        "\n",
        "# defining the optimizer type\n",
        "optimizer_type = Adam\n",
        "\n",
        "# defining our optimizer for our network's parameters\n",
        "optimizer = optimizer_type(xor_network.parameters(), lr = learning_rate)\n",
        "\n",
        "# redefining our loss function\n",
        "loss_fn = nn.MSELoss()\n",
        "\n",
        "# defining the threshold for stopping the training\n",
        "threshold=1e-6"
      ]
    },
    {
      "cell_type": "markdown",
      "id": "2806938d-1ccf-40d1-a6a6-864b42cd2ebf",
      "metadata": {
        "id": "2806938d-1ccf-40d1-a6a6-864b42cd2ebf"
      },
      "source": [
        "In practice, we recommend that you define a general training loop function instead of retyping the training loop for each network. [The official tutorial](https://pytorch.org/tutorials/beginner/basics/optimization_tutorial.html#full-implementation) provides a great example. In this exercise we're going to repeat our training loop for explanatory purposes. Let's proceed with our training loop:"
      ]
    },
    {
      "cell_type": "code",
      "execution_count": 50,
      "id": "8be263e5-a28e-4d7b-a37c-514ec8e5182c",
      "metadata": {
        "colab": {
          "base_uri": "https://localhost:8080/"
        },
        "id": "8be263e5-a28e-4d7b-a37c-514ec8e5182c",
        "outputId": "5ebae1fa-b469-435a-ad66-2200417944cb"
      },
      "outputs": [
        {
          "output_type": "stream",
          "name": "stdout",
          "text": [
            "Epoch 99 average loss : 0.25500619411468506\n",
            "Epoch 199 average loss : 0.26159337162971497\n",
            "Epoch 299 average loss : 0.2628934383392334\n",
            "Epoch 399 average loss : 0.2617216408252716\n",
            "Epoch 499 average loss : 0.2647871971130371\n",
            "Epoch 599 average loss : 0.00030742038507014513\n",
            "Epoch 614 average loss : 5.036059746998944e-07\n",
            "Training is finished after epoch 615\n"
          ]
        }
      ],
      "source": [
        "for epoch in range(epochs):\n",
        "    # set the network to training mode\n",
        "    xor_network.train()\n",
        "\n",
        "    epoch_loss = 0\n",
        "    number_of_samples = len(xor_dataloader.dataset)\n",
        "\n",
        "    for batch, (X, y) in enumerate(xor_dataloader):\n",
        "        # forward pass\n",
        "        X,y = X.to(device), y.to(device)\n",
        "        preds = xor_network(X)\n",
        "        y = y.unsqueeze(1)\n",
        "\n",
        "        loss = loss_fn(y, preds)\n",
        "\n",
        "        # backward pass\n",
        "        loss.backward()\n",
        "        optimizer.step()\n",
        "\n",
        "        # reseting the gradients\n",
        "        optimizer.zero_grad()\n",
        "\n",
        "        # updating the epoch loss with the current batch loss\n",
        "        epoch_loss += loss\n",
        "\n",
        "    # printing the loss value for every 100th epoch\n",
        "    if (epoch+1) % 100 == 0:\n",
        "        print(f\"Epoch {epoch} average loss : {epoch_loss/number_of_samples}\")\n",
        "    if (epoch_loss/number_of_samples < threshold):\n",
        "        print(f\"Epoch {epoch} average loss : {epoch_loss/number_of_samples}\")\n",
        "        print(f\"Training is finished after epoch {epoch+1}\")\n",
        "        break\n"
      ]
    },
    {
      "cell_type": "code",
      "source": [
        "from IPython.display import display\n",
        "import pandas as pd\n",
        "from itertools import product\n",
        "\n",
        "activation_functions = ['Sigmoid','Tanh']\n",
        "optimizers = ['SGD','Adam']\n",
        "learning_rates = [0.1,0.01]\n",
        "epochs = [10000]\n",
        "\n",
        "combinations = list(product(activation_functions, optimizers, learning_rates, epochs))\n",
        "\n",
        "dict1 = {'Activation function': [], 'optimizer': [], 'Learning rate': [], 'Number of epochs': [], 'res': []}\n",
        "\n",
        "# Fill the dictionary with the combinations\n",
        "for combination in combinations:\n",
        "    dict1['Activation function'].append(combination[0])\n",
        "    dict1['optimizer'].append(combination[1])\n",
        "    dict1['Learning rate'].append(combination[2])\n",
        "    dict1['Number of epochs'].append(combination[3])\n",
        "    dict1['res'].append(10000)\n",
        "\n",
        "for i in range(len(dict1['res'])):\n",
        "  learning_rate = dict1['Learning rate'][i]\n",
        "\n",
        "  if(dict1['Activation function'][i] == 'Tanh'):\n",
        "    activation_func = nn.Tanh\n",
        "  else:\n",
        "    activation_func = nn.Sigmoid\n",
        "\n",
        "  xor_network = XORNetwork(activation_func).to(device)\n",
        "\n",
        "  if(dict1['optimizer'][i] == 'Adam'):\n",
        "    optimizer_type = Adam\n",
        "  else:\n",
        "    optimizer_type = SGD\n",
        "\n",
        "  optimizer = optimizer_type(xor_network.parameters(), lr = learning_rate)\n",
        "\n",
        "  for epoch in range(epochs[0]):\n",
        "    xor_network.train()\n",
        "\n",
        "    epoch_loss = 0\n",
        "    number_of_samples = len(xor_dataloader.dataset)\n",
        "\n",
        "    for batch, (X, y) in enumerate(xor_dataloader):\n",
        "        X,y = X.to(device), y.to(device)\n",
        "        preds = xor_network(X)\n",
        "        y = y.unsqueeze(1)\n",
        "\n",
        "        loss = loss_fn(y, preds)\n",
        "        loss.backward()\n",
        "        optimizer.step()\n",
        "        optimizer.zero_grad()\n",
        "        epoch_loss += loss\n",
        "\n",
        "    if (epoch_loss/number_of_samples < threshold):\n",
        "        dict1['res'][i] = epoch+1\n",
        "        break\n",
        "\n",
        "\n",
        "\n",
        "df1 = pd.DataFrame(dict1)\n",
        "display(df1)\n"
      ],
      "metadata": {
        "colab": {
          "base_uri": "https://localhost:8080/",
          "height": 300
        },
        "id": "i-Oosz9hyrtg",
        "outputId": "fbbf0e39-638d-4b44-cfd6-1666c748153d"
      },
      "id": "i-Oosz9hyrtg",
      "execution_count": 53,
      "outputs": [
        {
          "output_type": "display_data",
          "data": {
            "text/plain": [
              "  Activation function optimizer  Learning rate  Number of epochs    res\n",
              "0             Sigmoid       SGD           0.10             10000    848\n",
              "1             Sigmoid       SGD           0.01             10000   9788\n",
              "2             Sigmoid      Adam           0.10             10000    150\n",
              "3             Sigmoid      Adam           0.01             10000   1095\n",
              "4                Tanh       SGD           0.10             10000    235\n",
              "5                Tanh       SGD           0.01             10000   1563\n",
              "6                Tanh      Adam           0.10             10000  10000\n",
              "7                Tanh      Adam           0.01             10000    847"
            ],
            "text/html": [
              "\n",
              "  <div id=\"df-7e0e3c8f-7536-4bb4-8e25-4965bb1a6313\" class=\"colab-df-container\">\n",
              "    <div>\n",
              "<style scoped>\n",
              "    .dataframe tbody tr th:only-of-type {\n",
              "        vertical-align: middle;\n",
              "    }\n",
              "\n",
              "    .dataframe tbody tr th {\n",
              "        vertical-align: top;\n",
              "    }\n",
              "\n",
              "    .dataframe thead th {\n",
              "        text-align: right;\n",
              "    }\n",
              "</style>\n",
              "<table border=\"1\" class=\"dataframe\">\n",
              "  <thead>\n",
              "    <tr style=\"text-align: right;\">\n",
              "      <th></th>\n",
              "      <th>Activation function</th>\n",
              "      <th>optimizer</th>\n",
              "      <th>Learning rate</th>\n",
              "      <th>Number of epochs</th>\n",
              "      <th>res</th>\n",
              "    </tr>\n",
              "  </thead>\n",
              "  <tbody>\n",
              "    <tr>\n",
              "      <th>0</th>\n",
              "      <td>Sigmoid</td>\n",
              "      <td>SGD</td>\n",
              "      <td>0.10</td>\n",
              "      <td>10000</td>\n",
              "      <td>848</td>\n",
              "    </tr>\n",
              "    <tr>\n",
              "      <th>1</th>\n",
              "      <td>Sigmoid</td>\n",
              "      <td>SGD</td>\n",
              "      <td>0.01</td>\n",
              "      <td>10000</td>\n",
              "      <td>9788</td>\n",
              "    </tr>\n",
              "    <tr>\n",
              "      <th>2</th>\n",
              "      <td>Sigmoid</td>\n",
              "      <td>Adam</td>\n",
              "      <td>0.10</td>\n",
              "      <td>10000</td>\n",
              "      <td>150</td>\n",
              "    </tr>\n",
              "    <tr>\n",
              "      <th>3</th>\n",
              "      <td>Sigmoid</td>\n",
              "      <td>Adam</td>\n",
              "      <td>0.01</td>\n",
              "      <td>10000</td>\n",
              "      <td>1095</td>\n",
              "    </tr>\n",
              "    <tr>\n",
              "      <th>4</th>\n",
              "      <td>Tanh</td>\n",
              "      <td>SGD</td>\n",
              "      <td>0.10</td>\n",
              "      <td>10000</td>\n",
              "      <td>235</td>\n",
              "    </tr>\n",
              "    <tr>\n",
              "      <th>5</th>\n",
              "      <td>Tanh</td>\n",
              "      <td>SGD</td>\n",
              "      <td>0.01</td>\n",
              "      <td>10000</td>\n",
              "      <td>1563</td>\n",
              "    </tr>\n",
              "    <tr>\n",
              "      <th>6</th>\n",
              "      <td>Tanh</td>\n",
              "      <td>Adam</td>\n",
              "      <td>0.10</td>\n",
              "      <td>10000</td>\n",
              "      <td>10000</td>\n",
              "    </tr>\n",
              "    <tr>\n",
              "      <th>7</th>\n",
              "      <td>Tanh</td>\n",
              "      <td>Adam</td>\n",
              "      <td>0.01</td>\n",
              "      <td>10000</td>\n",
              "      <td>847</td>\n",
              "    </tr>\n",
              "  </tbody>\n",
              "</table>\n",
              "</div>\n",
              "    <div class=\"colab-df-buttons\">\n",
              "\n",
              "  <div class=\"colab-df-container\">\n",
              "    <button class=\"colab-df-convert\" onclick=\"convertToInteractive('df-7e0e3c8f-7536-4bb4-8e25-4965bb1a6313')\"\n",
              "            title=\"Convert this dataframe to an interactive table.\"\n",
              "            style=\"display:none;\">\n",
              "\n",
              "  <svg xmlns=\"http://www.w3.org/2000/svg\" height=\"24px\" viewBox=\"0 -960 960 960\">\n",
              "    <path d=\"M120-120v-720h720v720H120Zm60-500h600v-160H180v160Zm220 220h160v-160H400v160Zm0 220h160v-160H400v160ZM180-400h160v-160H180v160Zm440 0h160v-160H620v160ZM180-180h160v-160H180v160Zm440 0h160v-160H620v160Z\"/>\n",
              "  </svg>\n",
              "    </button>\n",
              "\n",
              "  <style>\n",
              "    .colab-df-container {\n",
              "      display:flex;\n",
              "      gap: 12px;\n",
              "    }\n",
              "\n",
              "    .colab-df-convert {\n",
              "      background-color: #E8F0FE;\n",
              "      border: none;\n",
              "      border-radius: 50%;\n",
              "      cursor: pointer;\n",
              "      display: none;\n",
              "      fill: #1967D2;\n",
              "      height: 32px;\n",
              "      padding: 0 0 0 0;\n",
              "      width: 32px;\n",
              "    }\n",
              "\n",
              "    .colab-df-convert:hover {\n",
              "      background-color: #E2EBFA;\n",
              "      box-shadow: 0px 1px 2px rgba(60, 64, 67, 0.3), 0px 1px 3px 1px rgba(60, 64, 67, 0.15);\n",
              "      fill: #174EA6;\n",
              "    }\n",
              "\n",
              "    .colab-df-buttons div {\n",
              "      margin-bottom: 4px;\n",
              "    }\n",
              "\n",
              "    [theme=dark] .colab-df-convert {\n",
              "      background-color: #3B4455;\n",
              "      fill: #D2E3FC;\n",
              "    }\n",
              "\n",
              "    [theme=dark] .colab-df-convert:hover {\n",
              "      background-color: #434B5C;\n",
              "      box-shadow: 0px 1px 3px 1px rgba(0, 0, 0, 0.15);\n",
              "      filter: drop-shadow(0px 1px 2px rgba(0, 0, 0, 0.3));\n",
              "      fill: #FFFFFF;\n",
              "    }\n",
              "  </style>\n",
              "\n",
              "    <script>\n",
              "      const buttonEl =\n",
              "        document.querySelector('#df-7e0e3c8f-7536-4bb4-8e25-4965bb1a6313 button.colab-df-convert');\n",
              "      buttonEl.style.display =\n",
              "        google.colab.kernel.accessAllowed ? 'block' : 'none';\n",
              "\n",
              "      async function convertToInteractive(key) {\n",
              "        const element = document.querySelector('#df-7e0e3c8f-7536-4bb4-8e25-4965bb1a6313');\n",
              "        const dataTable =\n",
              "          await google.colab.kernel.invokeFunction('convertToInteractive',\n",
              "                                                    [key], {});\n",
              "        if (!dataTable) return;\n",
              "\n",
              "        const docLinkHtml = 'Like what you see? Visit the ' +\n",
              "          '<a target=\"_blank\" href=https://colab.research.google.com/notebooks/data_table.ipynb>data table notebook</a>'\n",
              "          + ' to learn more about interactive tables.';\n",
              "        element.innerHTML = '';\n",
              "        dataTable['output_type'] = 'display_data';\n",
              "        await google.colab.output.renderOutput(dataTable, element);\n",
              "        const docLink = document.createElement('div');\n",
              "        docLink.innerHTML = docLinkHtml;\n",
              "        element.appendChild(docLink);\n",
              "      }\n",
              "    </script>\n",
              "  </div>\n",
              "\n",
              "\n",
              "<div id=\"df-c3c0742c-b6b9-4f43-adca-60eb28b79b2f\">\n",
              "  <button class=\"colab-df-quickchart\" onclick=\"quickchart('df-c3c0742c-b6b9-4f43-adca-60eb28b79b2f')\"\n",
              "            title=\"Suggest charts\"\n",
              "            style=\"display:none;\">\n",
              "\n",
              "<svg xmlns=\"http://www.w3.org/2000/svg\" height=\"24px\"viewBox=\"0 0 24 24\"\n",
              "     width=\"24px\">\n",
              "    <g>\n",
              "        <path d=\"M19 3H5c-1.1 0-2 .9-2 2v14c0 1.1.9 2 2 2h14c1.1 0 2-.9 2-2V5c0-1.1-.9-2-2-2zM9 17H7v-7h2v7zm4 0h-2V7h2v10zm4 0h-2v-4h2v4z\"/>\n",
              "    </g>\n",
              "</svg>\n",
              "  </button>\n",
              "\n",
              "<style>\n",
              "  .colab-df-quickchart {\n",
              "      --bg-color: #E8F0FE;\n",
              "      --fill-color: #1967D2;\n",
              "      --hover-bg-color: #E2EBFA;\n",
              "      --hover-fill-color: #174EA6;\n",
              "      --disabled-fill-color: #AAA;\n",
              "      --disabled-bg-color: #DDD;\n",
              "  }\n",
              "\n",
              "  [theme=dark] .colab-df-quickchart {\n",
              "      --bg-color: #3B4455;\n",
              "      --fill-color: #D2E3FC;\n",
              "      --hover-bg-color: #434B5C;\n",
              "      --hover-fill-color: #FFFFFF;\n",
              "      --disabled-bg-color: #3B4455;\n",
              "      --disabled-fill-color: #666;\n",
              "  }\n",
              "\n",
              "  .colab-df-quickchart {\n",
              "    background-color: var(--bg-color);\n",
              "    border: none;\n",
              "    border-radius: 50%;\n",
              "    cursor: pointer;\n",
              "    display: none;\n",
              "    fill: var(--fill-color);\n",
              "    height: 32px;\n",
              "    padding: 0;\n",
              "    width: 32px;\n",
              "  }\n",
              "\n",
              "  .colab-df-quickchart:hover {\n",
              "    background-color: var(--hover-bg-color);\n",
              "    box-shadow: 0 1px 2px rgba(60, 64, 67, 0.3), 0 1px 3px 1px rgba(60, 64, 67, 0.15);\n",
              "    fill: var(--button-hover-fill-color);\n",
              "  }\n",
              "\n",
              "  .colab-df-quickchart-complete:disabled,\n",
              "  .colab-df-quickchart-complete:disabled:hover {\n",
              "    background-color: var(--disabled-bg-color);\n",
              "    fill: var(--disabled-fill-color);\n",
              "    box-shadow: none;\n",
              "  }\n",
              "\n",
              "  .colab-df-spinner {\n",
              "    border: 2px solid var(--fill-color);\n",
              "    border-color: transparent;\n",
              "    border-bottom-color: var(--fill-color);\n",
              "    animation:\n",
              "      spin 1s steps(1) infinite;\n",
              "  }\n",
              "\n",
              "  @keyframes spin {\n",
              "    0% {\n",
              "      border-color: transparent;\n",
              "      border-bottom-color: var(--fill-color);\n",
              "      border-left-color: var(--fill-color);\n",
              "    }\n",
              "    20% {\n",
              "      border-color: transparent;\n",
              "      border-left-color: var(--fill-color);\n",
              "      border-top-color: var(--fill-color);\n",
              "    }\n",
              "    30% {\n",
              "      border-color: transparent;\n",
              "      border-left-color: var(--fill-color);\n",
              "      border-top-color: var(--fill-color);\n",
              "      border-right-color: var(--fill-color);\n",
              "    }\n",
              "    40% {\n",
              "      border-color: transparent;\n",
              "      border-right-color: var(--fill-color);\n",
              "      border-top-color: var(--fill-color);\n",
              "    }\n",
              "    60% {\n",
              "      border-color: transparent;\n",
              "      border-right-color: var(--fill-color);\n",
              "    }\n",
              "    80% {\n",
              "      border-color: transparent;\n",
              "      border-right-color: var(--fill-color);\n",
              "      border-bottom-color: var(--fill-color);\n",
              "    }\n",
              "    90% {\n",
              "      border-color: transparent;\n",
              "      border-bottom-color: var(--fill-color);\n",
              "    }\n",
              "  }\n",
              "</style>\n",
              "\n",
              "  <script>\n",
              "    async function quickchart(key) {\n",
              "      const quickchartButtonEl =\n",
              "        document.querySelector('#' + key + ' button');\n",
              "      quickchartButtonEl.disabled = true;  // To prevent multiple clicks.\n",
              "      quickchartButtonEl.classList.add('colab-df-spinner');\n",
              "      try {\n",
              "        const charts = await google.colab.kernel.invokeFunction(\n",
              "            'suggestCharts', [key], {});\n",
              "      } catch (error) {\n",
              "        console.error('Error during call to suggestCharts:', error);\n",
              "      }\n",
              "      quickchartButtonEl.classList.remove('colab-df-spinner');\n",
              "      quickchartButtonEl.classList.add('colab-df-quickchart-complete');\n",
              "    }\n",
              "    (() => {\n",
              "      let quickchartButtonEl =\n",
              "        document.querySelector('#df-c3c0742c-b6b9-4f43-adca-60eb28b79b2f button');\n",
              "      quickchartButtonEl.style.display =\n",
              "        google.colab.kernel.accessAllowed ? 'block' : 'none';\n",
              "    })();\n",
              "  </script>\n",
              "</div>\n",
              "    </div>\n",
              "  </div>\n"
            ]
          },
          "metadata": {}
        }
      ]
    },
    {
      "cell_type": "code",
      "source": [
        "#the best combination seems to be Activation function -> Sigmoid, OPTIMISER -> Adam, learning rate -> 0.10\n",
        "#the combination Than, Adam, 0.10 did not converge in the given number of epochs"
      ],
      "metadata": {
        "id": "-CVklicz6Igl"
      },
      "id": "-CVklicz6Igl",
      "execution_count": null,
      "outputs": []
    },
    {
      "cell_type": "markdown",
      "id": "d074d1df-43e9-42ed-97a0-2618fbaa380c",
      "metadata": {
        "id": "d074d1df-43e9-42ed-97a0-2618fbaa380c"
      },
      "source": [
        "**Task**\n",
        "\n",
        "1. How many epochs are required for the training process to converge for each combination of the chosen activation function (Sigmoid, Tanh), optimizer (SGD/Adam)  and various learning rates (0.1, 0.01)? Display the results using the table with the following headers: **Activation function, Optimizer, Learning rate, Number of epochs**).\n",
        "2. Which combination turned out to be the best? Are there combinations for which the training process does not converge?\n",
        "\n",
        "*Remember to re-evaluate the previous two cells in order to properly apply changes. *"
      ]
    },
    {
      "cell_type": "markdown",
      "id": "dbd29ef7-b8b4-400c-8a88-1b14e024a427",
      "metadata": {
        "id": "dbd29ef7-b8b4-400c-8a88-1b14e024a427"
      },
      "source": [
        "## 5.4 The MNIST dataset\n",
        "\n",
        "[The MNIST dataset](http://yann.lecun.com/exdb/mnist/) is a very popular dataset which contains 60,000 training and 10,000 test images of handwritten digits. It is used to test the ability of a method to recognize which digit is on a given image. MNIST dataset is included with the [`torchvision` library](https://pytorch.org/vision/stable/index.html), so let's start by importing the train and test datasets:"
      ]
    },
    {
      "cell_type": "markdown",
      "id": "abb767eb-14fe-4e02-aa77-eeadd7eea913",
      "metadata": {
        "id": "abb767eb-14fe-4e02-aa77-eeadd7eea913"
      },
      "source": [
        "We've also used `ToTensor` function to transform MNIST images to tensors. Transforms are PyTorch mechanism of data processing. For additional details, check out [the Transforms tutorial](https://pytorch.org/tutorials/beginner/basics/transforms_tutorial.html).\n",
        "\n",
        "Let's continue by defining our network. We're going to ignore the spatial distribution of individual image pixels and simply use individual pixels as features. This can simply be done by [flattening our images](https://pytorch.org/docs/stable/generated/torch.nn.Flatten.html#torch.nn.Flatten). We'll also add aditional hidden layers with activation functions:"
      ]
    },
    {
      "cell_type": "code",
      "execution_count": 9,
      "id": "74ffceea-3e03-422a-80e9-66e23aced46a",
      "metadata": {
        "colab": {
          "base_uri": "https://localhost:8080/"
        },
        "id": "74ffceea-3e03-422a-80e9-66e23aced46a",
        "outputId": "e1870814-bf4a-4692-f21b-ca8228ce967e"
      },
      "outputs": [
        {
          "output_type": "stream",
          "name": "stdout",
          "text": [
            "Downloading http://yann.lecun.com/exdb/mnist/train-images-idx3-ubyte.gz\n",
            "Downloading http://yann.lecun.com/exdb/mnist/train-images-idx3-ubyte.gz to MNIST/raw/train-images-idx3-ubyte.gz\n"
          ]
        },
        {
          "output_type": "stream",
          "name": "stderr",
          "text": [
            "100%|██████████| 9912422/9912422 [00:00<00:00, 113103795.94it/s]\n"
          ]
        },
        {
          "output_type": "stream",
          "name": "stdout",
          "text": [
            "Extracting MNIST/raw/train-images-idx3-ubyte.gz to MNIST/raw\n",
            "\n",
            "Downloading http://yann.lecun.com/exdb/mnist/train-labels-idx1-ubyte.gz\n",
            "Downloading http://yann.lecun.com/exdb/mnist/train-labels-idx1-ubyte.gz to MNIST/raw/train-labels-idx1-ubyte.gz\n"
          ]
        },
        {
          "output_type": "stream",
          "name": "stderr",
          "text": [
            "100%|██████████| 28881/28881 [00:00<00:00, 87779488.28it/s]\n"
          ]
        },
        {
          "output_type": "stream",
          "name": "stdout",
          "text": [
            "Extracting MNIST/raw/train-labels-idx1-ubyte.gz to MNIST/raw\n",
            "\n",
            "Downloading http://yann.lecun.com/exdb/mnist/t10k-images-idx3-ubyte.gz\n",
            "Downloading http://yann.lecun.com/exdb/mnist/t10k-images-idx3-ubyte.gz to MNIST/raw/t10k-images-idx3-ubyte.gz\n"
          ]
        },
        {
          "output_type": "stream",
          "name": "stderr",
          "text": [
            "100%|██████████| 1648877/1648877 [00:00<00:00, 29880198.21it/s]\n"
          ]
        },
        {
          "output_type": "stream",
          "name": "stdout",
          "text": [
            "Extracting MNIST/raw/t10k-images-idx3-ubyte.gz to MNIST/raw\n",
            "\n",
            "Downloading http://yann.lecun.com/exdb/mnist/t10k-labels-idx1-ubyte.gz\n",
            "Downloading http://yann.lecun.com/exdb/mnist/t10k-labels-idx1-ubyte.gz to MNIST/raw/t10k-labels-idx1-ubyte.gz\n"
          ]
        },
        {
          "output_type": "stream",
          "name": "stderr",
          "text": [
            "100%|██████████| 4542/4542 [00:00<00:00, 15653680.17it/s]\n"
          ]
        },
        {
          "output_type": "stream",
          "name": "stdout",
          "text": [
            "Extracting MNIST/raw/t10k-labels-idx1-ubyte.gz to MNIST/raw\n",
            "\n"
          ]
        }
      ],
      "source": [
        "from torchvision.datasets import MNIST\n",
        "from torchvision.datasets import FashionMNIST\n",
        "from torchvision.transforms import ToTensor\n",
        "\n",
        "# download MNIST from the internet and store it in the notebook's directory\n",
        "mnist_train = MNIST(root = '', train = True, download = True, transform = ToTensor())\n",
        "mnist_test = MNIST(root = '', train = False, download = True, transform = ToTensor())"
      ]
    },
    {
      "cell_type": "code",
      "execution_count": 10,
      "id": "a899cea4-a96b-4554-8452-17b091e971bc",
      "metadata": {
        "id": "a899cea4-a96b-4554-8452-17b091e971bc"
      },
      "outputs": [],
      "source": [
        "class MNISTNetwork(nn.Module):\n",
        "    def __init__(self, hidden_layer_size1, hidden_layer_size2, activation_funct):\n",
        "        super().__init__()\n",
        "        self.flatten = nn.Flatten()\n",
        "\n",
        "        # 28x28 is the resolution of the images\n",
        "        self.pixel_count = 28 * 28\n",
        "        self.number_of_classes = 10\n",
        "\n",
        "        self.layer_stack = nn.Sequential(\n",
        "            nn.Linear(self.pixel_count, hidden_layer_size1),\n",
        "            activation_func(),\n",
        "            nn.Linear(hidden_layer_size1, hidden_layer_size2),\n",
        "            activation_func(),\n",
        "            nn.Linear(hidden_layer_size2, self.number_of_classes)\n",
        "            )\n",
        "\n",
        "    def forward(self, x):\n",
        "        x = self.flatten(x)\n",
        "        return self.layer_stack(x)"
      ]
    },
    {
      "cell_type": "markdown",
      "id": "7854f313-45bf-4e79-90a4-c1cd07431683",
      "metadata": {
        "id": "7854f313-45bf-4e79-90a4-c1cd07431683"
      },
      "source": [
        "Let's instantiate all of the needed classes and variables. Since we're doing classification, we're going to use [cross entropy loss function](https://pytorch.org/docs/stable/generated/torch.nn.CrossEntropyLoss.html#torch.nn.CrossEntropyLoss)."
      ]
    },
    {
      "cell_type": "code",
      "execution_count": 17,
      "id": "cf93d8f7-8eb4-4ff5-a9fb-fd871ccceb66",
      "metadata": {
        "id": "cf93d8f7-8eb4-4ff5-a9fb-fd871ccceb66"
      },
      "outputs": [],
      "source": [
        "# defining the hyperparameters\n",
        "epochs, learning_rate, batch_size = 20, 0.01, 100\n",
        "\n",
        "# defining the dataloaders\n",
        "mnist_train_dataloader = DataLoader(mnist_train, batch_size=batch_size, shuffle=True)\n",
        "mnist_test_dataloader = DataLoader(mnist_test, batch_size=batch_size, shuffle=True)\n",
        "\n",
        "# defining the activation function\n",
        "# activation_func = nn.Sigmoid\n",
        "# activation_func = nn.Tanh\n",
        "activation_func = nn.ReLU\n",
        "\n",
        "# instantiating the network\n",
        "hidden_layer_size_1 = 256\n",
        "hidden_layer_size_2 = 256\n",
        "mnist_network = MNISTNetwork(hidden_layer_size_1, hidden_layer_size_2, activation_func).to(device)\n",
        "\n",
        "# defining the optimizer type\n",
        "# optimizer_type = SGD\n",
        "optimizer_type = Adam\n",
        "\n",
        "# defining our optimizer for our network's parameters\n",
        "optimizer = optimizer_type(mnist_network.parameters(), lr = learning_rate)\n",
        "\n",
        "# redefining our loss function\n",
        "loss_fn = nn.CrossEntropyLoss()"
      ]
    },
    {
      "cell_type": "markdown",
      "id": "e3073774-3e8b-422f-9cb9-d1fe88fb2977",
      "metadata": {
        "id": "e3073774-3e8b-422f-9cb9-d1fe88fb2977"
      },
      "source": [
        "And let's run our training loop. We're also going to print the print the value of the loss function for the validation set."
      ]
    },
    {
      "cell_type": "code",
      "execution_count": null,
      "id": "f68bfd85-1f51-47f6-8676-87593d3dfcf1",
      "metadata": {
        "colab": {
          "base_uri": "https://localhost:8080/"
        },
        "id": "f68bfd85-1f51-47f6-8676-87593d3dfcf1",
        "outputId": "44886558-3272-41d3-a03a-fd2b18dc100e"
      },
      "outputs": [
        {
          "output_type": "stream",
          "name": "stdout",
          "text": [
            "Epoch 0 average train loss : 0.0014528093161061406\n",
            "Epoch 0 average test loss : 0.0014236941933631897\n",
            "Epoch 0 test accuracy : 0.9592\n",
            "Epoch 1 average train loss : 0.001213356270454824\n",
            "Epoch 1 average test loss : 0.0015165223740041256\n",
            "Epoch 1 test accuracy : 0.9605\n",
            "Epoch 2 average train loss : 0.001053554704412818\n",
            "Epoch 2 average test loss : 0.001396436127834022\n",
            "Epoch 2 test accuracy : 0.9649\n",
            "Epoch 3 average train loss : 0.000942725280765444\n",
            "Epoch 3 average test loss : 0.0013377531431615353\n",
            "Epoch 3 test accuracy : 0.9687\n",
            "Epoch 4 average train loss : 0.0009318417869508266\n",
            "Epoch 4 average test loss : 0.0014473306946456432\n",
            "Epoch 4 test accuracy : 0.9643\n",
            "Epoch 5 average train loss : 0.0008697990560904145\n",
            "Epoch 5 average test loss : 0.0017389663262292743\n",
            "Epoch 5 test accuracy : 0.9656\n",
            "Epoch 6 average train loss : 0.0007355882553383708\n",
            "Epoch 6 average test loss : 0.0016762387240305543\n",
            "Epoch 6 test accuracy : 0.9626\n",
            "Epoch 7 average train loss : 0.0007356999558396637\n",
            "Epoch 7 average test loss : 0.0014181566657498479\n",
            "Epoch 7 test accuracy : 0.9719\n",
            "Epoch 8 average train loss : 0.0006808117614127696\n",
            "Epoch 8 average test loss : 0.0014948928728699684\n",
            "Epoch 8 test accuracy : 0.9699\n",
            "Epoch 9 average train loss : 0.0006765516009181738\n",
            "Epoch 9 average test loss : 0.0014389484422281384\n",
            "Epoch 9 test accuracy : 0.9707\n",
            "Epoch 10 average train loss : 0.0007194439531303942\n",
            "Epoch 10 average test loss : 0.001374844228848815\n",
            "Epoch 10 test accuracy : 0.9724\n",
            "Epoch 11 average train loss : 0.0005782634834758937\n",
            "Epoch 11 average test loss : 0.0016803796170279384\n",
            "Epoch 11 test accuracy : 0.9717\n",
            "Epoch 12 average train loss : 0.0006413794471882284\n",
            "Epoch 12 average test loss : 0.0015820960979908705\n",
            "Epoch 12 test accuracy : 0.9711\n",
            "Epoch 13 average train loss : 0.0005464451969601214\n",
            "Epoch 13 average test loss : 0.0015391319757327437\n",
            "Epoch 13 test accuracy : 0.9757\n",
            "Epoch 14 average train loss : 0.0005574382958002388\n",
            "Epoch 14 average test loss : 0.0017380431527271867\n",
            "Epoch 14 test accuracy : 0.9695\n",
            "Epoch 15 average train loss : 0.0005052458727732301\n",
            "Epoch 15 average test loss : 0.0022661741822957993\n",
            "Epoch 15 test accuracy : 0.9719\n",
            "Epoch 16 average train loss : 0.0006583265494555235\n",
            "Epoch 16 average test loss : 0.001985478214919567\n",
            "Epoch 16 test accuracy : 0.9669\n",
            "Epoch 17 average train loss : 0.0004834283608943224\n",
            "Epoch 17 average test loss : 0.0018222344806417823\n",
            "Epoch 17 test accuracy : 0.9752\n",
            "Epoch 18 average train loss : 0.0004652900097426027\n",
            "Epoch 18 average test loss : 0.0018830100307241082\n",
            "Epoch 18 test accuracy : 0.9697\n",
            "Epoch 19 average train loss : 0.00047767150681465864\n",
            "Epoch 19 average test loss : 0.0019040120532736182\n",
            "Epoch 19 test accuracy : 0.9719\n"
          ]
        }
      ],
      "source": [
        "for epoch in range(epochs):\n",
        "    # set the network to training mode\n",
        "    mnist_network.train()\n",
        "\n",
        "    epoch_loss = 0\n",
        "    number_of_samples = len(mnist_train_dataloader.dataset)\n",
        "\n",
        "    for batch, (X, y) in enumerate(mnist_train_dataloader):\n",
        "        # forward pass\n",
        "        X, y = X.to(device), y.to(device)\n",
        "        preds = mnist_network(X)\n",
        "        loss = loss_fn(preds, y)\n",
        "\n",
        "        # backward pass\n",
        "        loss.backward()\n",
        "        optimizer.step()\n",
        "\n",
        "        # reseting the gradients\n",
        "        optimizer.zero_grad()\n",
        "\n",
        "        # updating the epoch loss with the current batch loss\n",
        "        epoch_loss += loss\n",
        "\n",
        "    # printing the train loss value for every n epochs\n",
        "    if (epoch+1) % 1 == 0:\n",
        "        print(f\"Epoch {epoch} average train loss : {epoch_loss/number_of_samples}\")\n",
        "\n",
        "    # printing the test set metrics for every n epochs\n",
        "    if (epoch+1) % 1 == 0:\n",
        "        test_loss = 0\n",
        "        correct = 0\n",
        "        number_of_test_samples = len(mnist_test_dataloader.dataset)\n",
        "\n",
        "        # set the network to evaluation mode\n",
        "        mnist_network.eval()\n",
        "\n",
        "        for (X, y) in mnist_test_dataloader:\n",
        "            X, y = X.to(device), y.to(device)\n",
        "            preds = mnist_network(X)\n",
        "            loss = loss_fn(preds, y)\n",
        "\n",
        "            # updating the test loss with the current batch loss\n",
        "            test_loss += loss\n",
        "\n",
        "            # updating the number of correctly classified images\n",
        "            # this great one-liner was copied from\n",
        "            # https://pytorch.org/tutorials/beginner/basics/optimization_tutorial.html#full-implementation\n",
        "            correct += (preds.argmax(1) == y).type(torch.float).sum().item()\n",
        "\n",
        "        print(f\"Epoch {epoch} average test loss : {test_loss/number_of_test_samples}\")\n",
        "        print(f\"Epoch {epoch} test accuracy : {correct/number_of_test_samples}\")"
      ]
    },
    {
      "cell_type": "code",
      "source": [
        "def train_and_test(epochs, mnist_network, mnist_train_dataloader, loss_fn, optimizer ):\n",
        "  for epoch in range(epochs):\n",
        "    # set the network to training mode\n",
        "    mnist_network.train()\n",
        "\n",
        "    epoch_loss = 0\n",
        "    number_of_samples = len(mnist_train_dataloader.dataset)\n",
        "\n",
        "    for batch, (X, y) in enumerate(mnist_train_dataloader):\n",
        "        # forward pass\n",
        "        X, y = X.to(device), y.to(device)\n",
        "        preds = mnist_network(X)\n",
        "        loss = loss_fn(preds, y)\n",
        "\n",
        "        # backward pass\n",
        "        loss.backward()\n",
        "        optimizer.step()\n",
        "\n",
        "        # reseting the gradients\n",
        "        optimizer.zero_grad()\n",
        "\n",
        "        # updating the epoch loss with the current batch loss\n",
        "        epoch_loss += loss\n",
        "\n",
        "    # printing the train loss value for every n epochs\n",
        "    if (epoch+1) % 1 == 0:\n",
        "        print(f\"Epoch {epoch} average train loss : {epoch_loss/number_of_samples}\")\n",
        "\n",
        "    # printing the test set metrics for every n epochs\n",
        "    if (epoch+1) % 1 == 0:\n",
        "        test_loss = 0\n",
        "        correct = 0\n",
        "        number_of_test_samples = len(mnist_test_dataloader.dataset)\n",
        "\n",
        "        # set the network to evaluation mode\n",
        "        mnist_network.eval()\n",
        "\n",
        "        for (X, y) in mnist_test_dataloader:\n",
        "            X, y = X.to(device), y.to(device)\n",
        "            preds = mnist_network(X)\n",
        "            loss = loss_fn(preds, y)\n",
        "\n",
        "            # updating the test loss with the current batch loss\n",
        "            test_loss += loss\n",
        "\n",
        "            # updating the number of correctly classified images\n",
        "            # this great one-liner was copied from\n",
        "            # https://pytorch.org/tutorials/beginner/basics/optimization_tutorial.html#full-implementation\n",
        "            correct += (preds.argmax(1) == y).type(torch.float).sum().item()\n",
        "\n",
        "        print(f\"Epoch {epoch} average test loss : {test_loss/number_of_test_samples}\")\n",
        "        print(f\"Epoch {epoch} test accuracy : {correct/number_of_test_samples}\")"
      ],
      "metadata": {
        "id": "NqisbW2dO6yA"
      },
      "id": "NqisbW2dO6yA",
      "execution_count": 19,
      "outputs": []
    },
    {
      "cell_type": "code",
      "source": [
        "default_act_f = nn.ReLU\n",
        "default_learn_r = 0.01\n",
        "default_batch_size = 75\n",
        "default_optim = Adam\n",
        "default_hidden1 = 100\n",
        "default_hidden2 = 100\n",
        "\n",
        "loss_fn = nn.CrossEntropyLoss()\n",
        "epochs = 10\n",
        "\n",
        "activation_f = [nn.ReLU, nn.Sigmoid, nn.Tanh]\n",
        "for i in range(len(activation_f)):\n",
        "  print(f'activation function = {activation_f[i]}')\n",
        "  mnist_train_dataloader = DataLoader(mnist_train, batch_size=default_batch_size, shuffle=True, pin_memory = True, num_workers = 10)\n",
        "  mnist_test_dataloader = DataLoader(mnist_test, batch_size=default_batch_size, shuffle=True, pin_memory = True, num_workers = 10)\n",
        "\n",
        "  mnist_network = MNISTNetwork(default_hidden1, default_hidden2, activation_f[i]).to(device)\n",
        "\n",
        "  optimizer = default_optim(mnist_network.parameters(), lr = default_learn_r)\n",
        "\n",
        "  train_and_test(epochs, mnist_network, mnist_train_dataloader, loss_fn, optimizer)\n",
        "\n",
        "learn_rate = [0.001, 0.01, 0.1]\n",
        "\n",
        "for i in range(len(learn_rate)):\n",
        "  print(f'learn rate = {learn_rate[i]}')\n",
        "  mnist_train_dataloader = DataLoader(mnist_train, batch_size=default_batch_size, shuffle=True, pin_memory = True, num_workers = 10)\n",
        "  mnist_test_dataloader = DataLoader(mnist_test, batch_size=default_batch_size, shuffle=True, pin_memory = True, num_workers = 10)\n",
        "\n",
        "  mnist_network = MNISTNetwork(default_hidden1, default_hidden2, default_act_f).to(device)\n",
        "\n",
        "  optimizer = default_optim(mnist_network.parameters(), lr = learn_rate[i])\n",
        "\n",
        "  train_and_test(epochs, mnist_network, mnist_train_dataloader, loss_fn, optimizer)\n",
        "\n",
        "batch_size = [50,75,100]\n",
        "for i in range(len(batch_size)):\n",
        "  print(f'batch size = {batch_size[i]}')\n",
        "  mnist_train_dataloader = DataLoader(mnist_train, batch_size=batch_size[i], shuffle=True, pin_memory = True, num_workers = 10)\n",
        "  mnist_test_dataloader = DataLoader(mnist_test, batch_size=batch_size[i], shuffle=True, pin_memory = True, num_workers = 10)\n",
        "\n",
        "  mnist_network = MNISTNetwork(default_hidden1, default_hidden2, default_act_f).to(device)\n",
        "\n",
        "  optimizer = default_optim(mnist_network.parameters(), lr = default_learn_r)\n",
        "\n",
        "  train_and_test(epochs, mnist_network, mnist_train_dataloader, loss_fn, optimizer)\n",
        "\n",
        "optim_list = [Adam, SGD]\n",
        "for i in range(len(optim_list)):\n",
        "  print(f'optimiser = {optim_list[i]}')\n",
        "  mnist_train_dataloader = DataLoader(mnist_train, batch_size=default_batch_size, shuffle=True, pin_memory = True, num_workers = 10)\n",
        "  mnist_test_dataloader = DataLoader(mnist_test, batch_size=default_batch_size, shuffle=True, pin_memory = True, num_workers = 10)\n",
        "\n",
        "  mnist_network = MNISTNetwork(default_hidden1, default_hidden2, default_act_f).to(device)\n",
        "\n",
        "  optimizer = optim_list[i](mnist_network.parameters(), lr = default_learn_r)\n",
        "\n",
        "  train_and_test(epochs, mnist_network, mnist_train_dataloader, loss_fn, optimizer)\n",
        "\n",
        "hidden_1 = [50,100,150]\n",
        "for i in range(len(hidden_1)):\n",
        "  print(f'hidden layer 1 = {hidden_1[i]}')\n",
        "  mnist_train_dataloader = DataLoader(mnist_train, batch_size=default_batch_size, shuffle=True, pin_memory = True, num_workers = 10)\n",
        "  mnist_test_dataloader = DataLoader(mnist_test, batch_size=default_batch_size, shuffle=True, pin_memory = True, num_workers = 10)\n",
        "\n",
        "  mnist_network = MNISTNetwork(hidden_1[i], default_hidden2, default_act_f).to(device)\n",
        "\n",
        "  optimizer = default_optim(mnist_network.parameters(), lr = default_learn_r)\n",
        "\n",
        "  train_and_test(epochs, mnist_network, mnist_train_dataloader, loss_fn, optimizer)\n",
        "\n",
        "\n",
        "hidden_2 = [50,100,150]\n",
        "for i in range(len(hidden_2)):\n",
        "  print(f'hidden layer 2 = {hidden_2[i]}')\n",
        "  mnist_train_dataloader = DataLoader(mnist_train, batch_size=default_batch_size, shuffle=True, pin_memory = True, num_workers = 10)\n",
        "  mnist_test_dataloader = DataLoader(mnist_test, batch_size=default_batch_size, shuffle=True, pin_memory = True, num_workers = 10)\n",
        "\n",
        "  mnist_network = MNISTNetwork(default_hidden1, hidden_2[i], default_act_f).to(device)\n",
        "\n",
        "  optimizer = default_optim(mnist_network.parameters(), lr = default_learn_r)\n",
        "\n",
        "  train_and_test(epochs, mnist_network, mnist_train_dataloader, loss_fn, optimizer)\n",
        "\n"
      ],
      "metadata": {
        "colab": {
          "base_uri": "https://localhost:8080/"
        },
        "id": "Vw_vL-r38KDZ",
        "outputId": "8e71581b-78c0-4b29-a5e7-65250c0031e1"
      },
      "id": "Vw_vL-r38KDZ",
      "execution_count": 24,
      "outputs": [
        {
          "output_type": "stream",
          "name": "stdout",
          "text": [
            "activation function = <class 'torch.nn.modules.activation.ReLU'>\n",
            "Epoch 0 average train loss : 0.003154278500005603\n",
            "Epoch 0 average test loss : 0.002197090769186616\n",
            "Epoch 0 test accuracy : 0.9523\n",
            "Epoch 1 average train loss : 0.0019335357937961817\n",
            "Epoch 1 average test loss : 0.0018840087577700615\n",
            "Epoch 1 test accuracy : 0.9602\n",
            "Epoch 2 average train loss : 0.0015847844770178199\n",
            "Epoch 2 average test loss : 0.002097302582114935\n",
            "Epoch 2 test accuracy : 0.9611\n",
            "Epoch 3 average train loss : 0.0014070990728214383\n",
            "Epoch 3 average test loss : 0.0018783084815368056\n",
            "Epoch 3 test accuracy : 0.9645\n",
            "Epoch 4 average train loss : 0.0014099044492468238\n",
            "Epoch 4 average test loss : 0.0022012616973370314\n",
            "Epoch 4 test accuracy : 0.9621\n",
            "Epoch 5 average train loss : 0.0011808281997218728\n",
            "Epoch 5 average test loss : 0.0018281842349097133\n",
            "Epoch 5 test accuracy : 0.9683\n",
            "Epoch 6 average train loss : 0.0011922256089746952\n",
            "Epoch 6 average test loss : 0.0019384549232199788\n",
            "Epoch 6 test accuracy : 0.9665\n",
            "Epoch 7 average train loss : 0.0010450832778587937\n",
            "Epoch 7 average test loss : 0.002052875002846122\n",
            "Epoch 7 test accuracy : 0.9679\n",
            "Epoch 8 average train loss : 0.0010150810703635216\n",
            "Epoch 8 average test loss : 0.0019899134058505297\n",
            "Epoch 8 test accuracy : 0.9686\n",
            "Epoch 9 average train loss : 0.0010388692608103156\n",
            "Epoch 9 average test loss : 0.0018340871902182698\n",
            "Epoch 9 test accuracy : 0.9703\n",
            "activation function = <class 'torch.nn.modules.activation.Sigmoid'>\n",
            "Epoch 0 average train loss : 0.0032851798459887505\n",
            "Epoch 0 average test loss : 0.002111655892804265\n",
            "Epoch 0 test accuracy : 0.9556\n",
            "Epoch 1 average train loss : 0.001948438584804535\n",
            "Epoch 1 average test loss : 0.002038566628471017\n",
            "Epoch 1 test accuracy : 0.9593\n",
            "Epoch 2 average train loss : 0.001686921576038003\n",
            "Epoch 2 average test loss : 0.002000698121264577\n",
            "Epoch 2 test accuracy : 0.9613\n",
            "Epoch 3 average train loss : 0.0014753026189282537\n",
            "Epoch 3 average test loss : 0.0019840437453240156\n",
            "Epoch 3 test accuracy : 0.9654\n",
            "Epoch 4 average train loss : 0.001307203434407711\n",
            "Epoch 4 average test loss : 0.0018656422616913915\n",
            "Epoch 4 test accuracy : 0.9671\n",
            "Epoch 5 average train loss : 0.001296412548981607\n",
            "Epoch 5 average test loss : 0.0020587861072272062\n",
            "Epoch 5 test accuracy : 0.9673\n",
            "Epoch 6 average train loss : 0.0011957032838836312\n",
            "Epoch 6 average test loss : 0.0020107205491513014\n",
            "Epoch 6 test accuracy : 0.97\n",
            "Epoch 7 average train loss : 0.0011404294054955244\n",
            "Epoch 7 average test loss : 0.0017670270754024386\n",
            "Epoch 7 test accuracy : 0.9665\n",
            "Epoch 8 average train loss : 0.0010638065868988633\n",
            "Epoch 8 average test loss : 0.001805681036785245\n",
            "Epoch 8 test accuracy : 0.9701\n",
            "Epoch 9 average train loss : 0.001025658450089395\n",
            "Epoch 9 average test loss : 0.002473837463185191\n",
            "Epoch 9 test accuracy : 0.9649\n",
            "activation function = <class 'torch.nn.modules.activation.Tanh'>\n",
            "Epoch 0 average train loss : 0.00333609851077199\n",
            "Epoch 0 average test loss : 0.002415160182863474\n",
            "Epoch 0 test accuracy : 0.9499\n",
            "Epoch 1 average train loss : 0.0019056476885452867\n",
            "Epoch 1 average test loss : 0.0018814925570040941\n",
            "Epoch 1 test accuracy : 0.9593\n",
            "Epoch 2 average train loss : 0.0016537746414542198\n",
            "Epoch 2 average test loss : 0.0018180911429226398\n",
            "Epoch 2 test accuracy : 0.9647\n",
            "Epoch 3 average train loss : 0.0014908103039488196\n",
            "Epoch 3 average test loss : 0.0018638484179973602\n",
            "Epoch 3 test accuracy : 0.9639\n",
            "Epoch 4 average train loss : 0.0013519431231543422\n",
            "Epoch 4 average test loss : 0.0019009965471923351\n",
            "Epoch 4 test accuracy : 0.9647\n",
            "Epoch 5 average train loss : 0.0012993472628295422\n",
            "Epoch 5 average test loss : 0.0023459491785615683\n",
            "Epoch 5 test accuracy : 0.9612\n",
            "Epoch 6 average train loss : 0.0013110361760482192\n",
            "Epoch 6 average test loss : 0.0022863661870360374\n",
            "Epoch 6 test accuracy : 0.9654\n",
            "Epoch 7 average train loss : 0.001113234437070787\n",
            "Epoch 7 average test loss : 0.001985240029171109\n",
            "Epoch 7 test accuracy : 0.9666\n",
            "Epoch 8 average train loss : 0.001192593015730381\n",
            "Epoch 8 average test loss : 0.0021328155416995287\n",
            "Epoch 8 test accuracy : 0.9693\n",
            "Epoch 9 average train loss : 0.0010983555112034082\n",
            "Epoch 9 average test loss : 0.0021531996317207813\n",
            "Epoch 9 test accuracy : 0.9644\n",
            "learn rate = 0.001\n",
            "Epoch 0 average train loss : 0.004689592402428389\n",
            "Epoch 0 average test loss : 0.0022921517957001925\n",
            "Epoch 0 test accuracy : 0.9487\n",
            "Epoch 1 average train loss : 0.0019553047604858875\n",
            "Epoch 1 average test loss : 0.0017646984197199345\n",
            "Epoch 1 test accuracy : 0.9602\n",
            "Epoch 2 average train loss : 0.0014333183644339442\n",
            "Epoch 2 average test loss : 0.0014633235987275839\n",
            "Epoch 2 test accuracy : 0.9672\n",
            "Epoch 3 average train loss : 0.0010993077885359526\n",
            "Epoch 3 average test loss : 0.001279535354115069\n",
            "Epoch 3 test accuracy : 0.9705\n",
            "Epoch 4 average train loss : 0.0008795097237452865\n",
            "Epoch 4 average test loss : 0.0011912761256098747\n",
            "Epoch 4 test accuracy : 0.9727\n",
            "Epoch 5 average train loss : 0.0007114493637345731\n",
            "Epoch 5 average test loss : 0.0011165502946823835\n",
            "Epoch 5 test accuracy : 0.9728\n",
            "Epoch 6 average train loss : 0.0005870267050340772\n",
            "Epoch 6 average test loss : 0.0010524526005610824\n",
            "Epoch 6 test accuracy : 0.9769\n",
            "Epoch 7 average train loss : 0.000507874006871134\n",
            "Epoch 7 average test loss : 0.0010858327150344849\n",
            "Epoch 7 test accuracy : 0.9762\n",
            "Epoch 8 average train loss : 0.0004146731225773692\n",
            "Epoch 8 average test loss : 0.001263024052605033\n",
            "Epoch 8 test accuracy : 0.9711\n",
            "Epoch 9 average train loss : 0.000356560864020139\n",
            "Epoch 9 average test loss : 0.001131344703026116\n",
            "Epoch 9 test accuracy : 0.9753\n",
            "learn rate = 0.01\n",
            "Epoch 0 average train loss : 0.003327917540445924\n",
            "Epoch 0 average test loss : 0.0023343239445239305\n",
            "Epoch 0 test accuracy : 0.9502\n",
            "Epoch 1 average train loss : 0.0020012310706079006\n",
            "Epoch 1 average test loss : 0.0024205015506595373\n",
            "Epoch 1 test accuracy : 0.952\n",
            "Epoch 2 average train loss : 0.0016342655289918184\n",
            "Epoch 2 average test loss : 0.001905284821987152\n",
            "Epoch 2 test accuracy : 0.962\n",
            "Epoch 3 average train loss : 0.001581212505698204\n",
            "Epoch 3 average test loss : 0.002273579128086567\n",
            "Epoch 3 test accuracy : 0.9595\n",
            "Epoch 4 average train loss : 0.0013919549528509378\n",
            "Epoch 4 average test loss : 0.0021409590262919664\n",
            "Epoch 4 test accuracy : 0.9597\n",
            "Epoch 5 average train loss : 0.0013107092818245292\n",
            "Epoch 5 average test loss : 0.0018160459585487843\n",
            "Epoch 5 test accuracy : 0.9672\n",
            "Epoch 6 average train loss : 0.0012035639956593513\n",
            "Epoch 6 average test loss : 0.0019865259528160095\n",
            "Epoch 6 test accuracy : 0.9688\n",
            "Epoch 7 average train loss : 0.0012005926109850407\n",
            "Epoch 7 average test loss : 0.0018196022137999535\n",
            "Epoch 7 test accuracy : 0.9701\n",
            "Epoch 8 average train loss : 0.0010754844406619668\n",
            "Epoch 8 average test loss : 0.0018896617693826556\n",
            "Epoch 8 test accuracy : 0.967\n",
            "Epoch 9 average train loss : 0.0010040003107860684\n",
            "Epoch 9 average test loss : 0.002026968402788043\n",
            "Epoch 9 test accuracy : 0.969\n",
            "learn rate = 0.1\n",
            "Epoch 0 average train loss : 0.023889990523457527\n",
            "Epoch 0 average test loss : 0.019701283425092697\n",
            "Epoch 0 test accuracy : 0.4217\n",
            "Epoch 1 average train loss : 0.017783621326088905\n",
            "Epoch 1 average test loss : 0.017825540155172348\n",
            "Epoch 1 test accuracy : 0.4864\n",
            "Epoch 2 average train loss : 0.016936223953962326\n",
            "Epoch 2 average test loss : 0.016545074060559273\n",
            "Epoch 2 test accuracy : 0.519\n",
            "Epoch 3 average train loss : 0.017591504380106926\n",
            "Epoch 3 average test loss : 0.018389960750937462\n",
            "Epoch 3 test accuracy : 0.445\n",
            "Epoch 4 average train loss : 0.01742502488195896\n",
            "Epoch 4 average test loss : 0.01798633486032486\n",
            "Epoch 4 test accuracy : 0.4932\n",
            "Epoch 5 average train loss : 0.01726311817765236\n",
            "Epoch 5 average test loss : 0.017935000360012054\n",
            "Epoch 5 test accuracy : 0.4879\n",
            "Epoch 6 average train loss : 0.02073078043758869\n",
            "Epoch 6 average test loss : 0.020893508568406105\n",
            "Epoch 6 test accuracy : 0.3505\n",
            "Epoch 7 average train loss : 0.01980932429432869\n",
            "Epoch 7 average test loss : 0.02042359486222267\n",
            "Epoch 7 test accuracy : 0.4171\n",
            "Epoch 8 average train loss : 0.019207417964935303\n",
            "Epoch 8 average test loss : 0.017946455627679825\n",
            "Epoch 8 test accuracy : 0.4279\n",
            "Epoch 9 average train loss : 0.01907983236014843\n",
            "Epoch 9 average test loss : 0.018044117838144302\n",
            "Epoch 9 test accuracy : 0.4258\n",
            "batch size = 50\n",
            "Epoch 0 average train loss : 0.005284836981445551\n",
            "Epoch 0 average test loss : 0.0030505156610161066\n",
            "Epoch 0 test accuracy : 0.9571\n",
            "Epoch 1 average train loss : 0.0031313884537667036\n",
            "Epoch 1 average test loss : 0.003461554180830717\n",
            "Epoch 1 test accuracy : 0.9544\n",
            "Epoch 2 average train loss : 0.0029114875942468643\n",
            "Epoch 2 average test loss : 0.0030950913205742836\n",
            "Epoch 2 test accuracy : 0.9598\n",
            "Epoch 3 average train loss : 0.0025938749313354492\n",
            "Epoch 3 average test loss : 0.0030124865006655455\n",
            "Epoch 3 test accuracy : 0.9664\n",
            "Epoch 4 average train loss : 0.002504755277186632\n",
            "Epoch 4 average test loss : 0.002930582268163562\n",
            "Epoch 4 test accuracy : 0.9647\n",
            "Epoch 5 average train loss : 0.0022886409424245358\n",
            "Epoch 5 average test loss : 0.00391489639878273\n",
            "Epoch 5 test accuracy : 0.9613\n",
            "Epoch 6 average train loss : 0.0020409063436090946\n",
            "Epoch 6 average test loss : 0.0034131952561438084\n",
            "Epoch 6 test accuracy : 0.9626\n",
            "Epoch 7 average train loss : 0.0021039722487330437\n",
            "Epoch 7 average test loss : 0.0036283214576542377\n",
            "Epoch 7 test accuracy : 0.9605\n",
            "Epoch 8 average train loss : 0.0019162108656018972\n",
            "Epoch 8 average test loss : 0.003224410815164447\n",
            "Epoch 8 test accuracy : 0.9705\n",
            "Epoch 9 average train loss : 0.0019518063636496663\n",
            "Epoch 9 average test loss : 0.0033823326230049133\n",
            "Epoch 9 test accuracy : 0.9699\n",
            "batch size = 75\n",
            "Epoch 0 average train loss : 0.003185716224834323\n",
            "Epoch 0 average test loss : 0.0023323395289480686\n",
            "Epoch 0 test accuracy : 0.9534\n",
            "Epoch 1 average train loss : 0.001846991595812142\n",
            "Epoch 1 average test loss : 0.002064424566924572\n",
            "Epoch 1 test accuracy : 0.9575\n",
            "Epoch 2 average train loss : 0.0016142675885930657\n",
            "Epoch 2 average test loss : 0.0019561832305043936\n",
            "Epoch 2 test accuracy : 0.9619\n",
            "Epoch 3 average train loss : 0.0014616592088714242\n",
            "Epoch 3 average test loss : 0.002076129661872983\n",
            "Epoch 3 test accuracy : 0.9629\n",
            "Epoch 4 average train loss : 0.0014172270894050598\n",
            "Epoch 4 average test loss : 0.0021851665806025267\n",
            "Epoch 4 test accuracy : 0.9588\n",
            "Epoch 5 average train loss : 0.0013205825816839933\n",
            "Epoch 5 average test loss : 0.0022566369734704494\n",
            "Epoch 5 test accuracy : 0.9604\n",
            "Epoch 6 average train loss : 0.00120533537119627\n",
            "Epoch 6 average test loss : 0.0018024364253506064\n",
            "Epoch 6 test accuracy : 0.9702\n",
            "Epoch 7 average train loss : 0.0011974091175943613\n",
            "Epoch 7 average test loss : 0.0019649318419396877\n",
            "Epoch 7 test accuracy : 0.9648\n",
            "Epoch 8 average train loss : 0.0010858818423002958\n",
            "Epoch 8 average test loss : 0.0019620084203779697\n",
            "Epoch 8 test accuracy : 0.9654\n",
            "Epoch 9 average train loss : 0.0010220123222097754\n",
            "Epoch 9 average test loss : 0.00174846185836941\n",
            "Epoch 9 test accuracy : 0.9718\n",
            "batch size = 100\n",
            "Epoch 0 average train loss : 0.002393243135884404\n",
            "Epoch 0 average test loss : 0.0013456300366669893\n",
            "Epoch 0 test accuracy : 0.9604\n",
            "Epoch 1 average train loss : 0.0013148195575922728\n",
            "Epoch 1 average test loss : 0.0011613917304202914\n",
            "Epoch 1 test accuracy : 0.9646\n",
            "Epoch 2 average train loss : 0.001071749604307115\n",
            "Epoch 2 average test loss : 0.0011859777150675654\n",
            "Epoch 2 test accuracy : 0.9672\n",
            "Epoch 3 average train loss : 0.000993877649307251\n",
            "Epoch 3 average test loss : 0.0013381243916228414\n",
            "Epoch 3 test accuracy : 0.9643\n",
            "Epoch 4 average train loss : 0.0009106582729145885\n",
            "Epoch 4 average test loss : 0.001458472921513021\n",
            "Epoch 4 test accuracy : 0.9627\n",
            "Epoch 5 average train loss : 0.0008839123765937984\n",
            "Epoch 5 average test loss : 0.001282836077734828\n",
            "Epoch 5 test accuracy : 0.9698\n",
            "Epoch 6 average train loss : 0.0008050454780459404\n",
            "Epoch 6 average test loss : 0.00147904921323061\n",
            "Epoch 6 test accuracy : 0.9658\n",
            "Epoch 7 average train loss : 0.0007050431449897587\n",
            "Epoch 7 average test loss : 0.001312510808929801\n",
            "Epoch 7 test accuracy : 0.97\n",
            "Epoch 8 average train loss : 0.0007545789703726768\n",
            "Epoch 8 average test loss : 0.001423720153979957\n",
            "Epoch 8 test accuracy : 0.9712\n",
            "Epoch 9 average train loss : 0.000705558864865452\n",
            "Epoch 9 average test loss : 0.0013015912845730782\n",
            "Epoch 9 test accuracy : 0.9715\n",
            "optimiser = <class 'torch.optim.adam.Adam'>\n",
            "Epoch 0 average train loss : 0.0033164359629154205\n",
            "Epoch 0 average test loss : 0.0018342770636081696\n",
            "Epoch 0 test accuracy : 0.9599\n",
            "Epoch 1 average train loss : 0.001941158203408122\n",
            "Epoch 1 average test loss : 0.00198901304975152\n",
            "Epoch 1 test accuracy : 0.9586\n",
            "Epoch 2 average train loss : 0.0016397535800933838\n",
            "Epoch 2 average test loss : 0.0015753447078168392\n",
            "Epoch 2 test accuracy : 0.9672\n",
            "Epoch 3 average train loss : 0.0014358018524944782\n",
            "Epoch 3 average test loss : 0.00208214926533401\n",
            "Epoch 3 test accuracy : 0.9571\n",
            "Epoch 4 average train loss : 0.0013835893478244543\n",
            "Epoch 4 average test loss : 0.0021576103754341602\n",
            "Epoch 4 test accuracy : 0.9622\n",
            "Epoch 5 average train loss : 0.0013142762472853065\n",
            "Epoch 5 average test loss : 0.0018614674918353558\n",
            "Epoch 5 test accuracy : 0.9642\n",
            "Epoch 6 average train loss : 0.0012099560117349029\n",
            "Epoch 6 average test loss : 0.002202258910983801\n",
            "Epoch 6 test accuracy : 0.963\n",
            "Epoch 7 average train loss : 0.0011029409943148494\n",
            "Epoch 7 average test loss : 0.0018597806338220835\n",
            "Epoch 7 test accuracy : 0.9672\n",
            "Epoch 8 average train loss : 0.0011592460796236992\n",
            "Epoch 8 average test loss : 0.002703871577978134\n",
            "Epoch 8 test accuracy : 0.9582\n",
            "Epoch 9 average train loss : 0.0010742672020569444\n",
            "Epoch 9 average test loss : 0.002019876381382346\n",
            "Epoch 9 test accuracy : 0.9694\n",
            "optimiser = <class 'torch.optim.sgd.SGD'>\n",
            "Epoch 0 average train loss : 0.02456396445631981\n",
            "Epoch 0 average test loss : 0.012840207666158676\n",
            "Epoch 0 test accuracy : 0.7894\n",
            "Epoch 1 average train loss : 0.008601704612374306\n",
            "Epoch 1 average test loss : 0.006204529665410519\n",
            "Epoch 1 test accuracy : 0.8751\n",
            "Epoch 2 average train loss : 0.005688242614269257\n",
            "Epoch 2 average test loss : 0.004978210665285587\n",
            "Epoch 2 test accuracy : 0.8942\n",
            "Epoch 3 average train loss : 0.0048956964164972305\n",
            "Epoch 3 average test loss : 0.004477090667933226\n",
            "Epoch 3 test accuracy : 0.9022\n",
            "Epoch 4 average train loss : 0.00448773056268692\n",
            "Epoch 4 average test loss : 0.004161477088928223\n",
            "Epoch 4 test accuracy : 0.9092\n",
            "Epoch 5 average train loss : 0.004207654390484095\n",
            "Epoch 5 average test loss : 0.003992781508713961\n",
            "Epoch 5 test accuracy : 0.9141\n",
            "Epoch 6 average train loss : 0.003978401888161898\n",
            "Epoch 6 average test loss : 0.0037397833075374365\n",
            "Epoch 6 test accuracy : 0.9193\n",
            "Epoch 7 average train loss : 0.0037795205134898424\n",
            "Epoch 7 average test loss : 0.003630265360698104\n",
            "Epoch 7 test accuracy : 0.9207\n",
            "Epoch 8 average train loss : 0.0036074446979910135\n",
            "Epoch 8 average test loss : 0.003481007646769285\n",
            "Epoch 8 test accuracy : 0.9252\n",
            "Epoch 9 average train loss : 0.0034382694866508245\n",
            "Epoch 9 average test loss : 0.0033162294421344995\n",
            "Epoch 9 test accuracy : 0.9293\n",
            "hidden layer 1 = 50\n",
            "Epoch 0 average train loss : 0.003420618362724781\n",
            "Epoch 0 average test loss : 0.0023241217713803053\n",
            "Epoch 0 test accuracy : 0.9522\n",
            "Epoch 1 average train loss : 0.0020804600790143013\n",
            "Epoch 1 average test loss : 0.001773685566149652\n",
            "Epoch 1 test accuracy : 0.9648\n",
            "Epoch 2 average train loss : 0.001812673988752067\n",
            "Epoch 2 average test loss : 0.0021839614491909742\n",
            "Epoch 2 test accuracy : 0.9603\n",
            "Epoch 3 average train loss : 0.0016936952015385032\n",
            "Epoch 3 average test loss : 0.0019437439041212201\n",
            "Epoch 3 test accuracy : 0.9607\n",
            "Epoch 4 average train loss : 0.0015286427224054933\n",
            "Epoch 4 average test loss : 0.0021694947499781847\n",
            "Epoch 4 test accuracy : 0.9574\n",
            "Epoch 5 average train loss : 0.0015000490238890052\n",
            "Epoch 5 average test loss : 0.0019849538803100586\n",
            "Epoch 5 test accuracy : 0.9622\n",
            "Epoch 6 average train loss : 0.0013611835893243551\n",
            "Epoch 6 average test loss : 0.0021420279517769814\n",
            "Epoch 6 test accuracy : 0.964\n",
            "Epoch 7 average train loss : 0.0013482931535691023\n",
            "Epoch 7 average test loss : 0.002245923737064004\n",
            "Epoch 7 test accuracy : 0.9613\n",
            "Epoch 8 average train loss : 0.0012349201133474708\n",
            "Epoch 8 average test loss : 0.0020518379751592875\n",
            "Epoch 8 test accuracy : 0.9658\n",
            "Epoch 9 average train loss : 0.001239083823747933\n",
            "Epoch 9 average test loss : 0.002196120098233223\n",
            "Epoch 9 test accuracy : 0.96\n",
            "hidden layer 1 = 100\n",
            "Epoch 0 average train loss : 0.003240303136408329\n",
            "Epoch 0 average test loss : 0.0026526744477450848\n",
            "Epoch 0 test accuracy : 0.9474\n",
            "Epoch 1 average train loss : 0.0018936898559331894\n",
            "Epoch 1 average test loss : 0.0021748344879597425\n",
            "Epoch 1 test accuracy : 0.9537\n",
            "Epoch 2 average train loss : 0.0016712977085262537\n",
            "Epoch 2 average test loss : 0.0019738951232284307\n",
            "Epoch 2 test accuracy : 0.9624\n",
            "Epoch 3 average train loss : 0.0014621680602431297\n",
            "Epoch 3 average test loss : 0.0016653711209073663\n",
            "Epoch 3 test accuracy : 0.9679\n",
            "Epoch 4 average train loss : 0.0013719041598960757\n",
            "Epoch 4 average test loss : 0.00178357248660177\n",
            "Epoch 4 test accuracy : 0.9671\n",
            "Epoch 5 average train loss : 0.0012734270421788096\n",
            "Epoch 5 average test loss : 0.0021819015964865685\n",
            "Epoch 5 test accuracy : 0.9642\n",
            "Epoch 6 average train loss : 0.001158260740339756\n",
            "Epoch 6 average test loss : 0.0021263195667415857\n",
            "Epoch 6 test accuracy : 0.9668\n",
            "Epoch 7 average train loss : 0.0010692956857383251\n",
            "Epoch 7 average test loss : 0.001972110942006111\n",
            "Epoch 7 test accuracy : 0.9697\n",
            "Epoch 8 average train loss : 0.0010639504762366414\n",
            "Epoch 8 average test loss : 0.0022182997781783342\n",
            "Epoch 8 test accuracy : 0.9648\n",
            "Epoch 9 average train loss : 0.0010159461526200175\n",
            "Epoch 9 average test loss : 0.0022772392258048058\n",
            "Epoch 9 test accuracy : 0.9697\n",
            "hidden layer 1 = 150\n",
            "Epoch 0 average train loss : 0.003161616623401642\n",
            "Epoch 0 average test loss : 0.002004584763199091\n",
            "Epoch 0 test accuracy : 0.959\n",
            "Epoch 1 average train loss : 0.0018531392561271787\n",
            "Epoch 1 average test loss : 0.0019731009379029274\n",
            "Epoch 1 test accuracy : 0.9596\n",
            "Epoch 2 average train loss : 0.0016136480262503028\n",
            "Epoch 2 average test loss : 0.0020623980090022087\n",
            "Epoch 2 test accuracy : 0.9567\n",
            "Epoch 3 average train loss : 0.001420395914465189\n",
            "Epoch 3 average test loss : 0.0019117516931146383\n",
            "Epoch 3 test accuracy : 0.9638\n",
            "Epoch 4 average train loss : 0.0013430403778329492\n",
            "Epoch 4 average test loss : 0.002011568285524845\n",
            "Epoch 4 test accuracy : 0.9647\n",
            "Epoch 5 average train loss : 0.0011209150543436408\n",
            "Epoch 5 average test loss : 0.002762142103165388\n",
            "Epoch 5 test accuracy : 0.9552\n",
            "Epoch 6 average train loss : 0.0010710463393479586\n",
            "Epoch 6 average test loss : 0.0019918554462492466\n",
            "Epoch 6 test accuracy : 0.9649\n",
            "Epoch 7 average train loss : 0.0010574125917628407\n",
            "Epoch 7 average test loss : 0.002026317408308387\n",
            "Epoch 7 test accuracy : 0.9656\n",
            "Epoch 8 average train loss : 0.0010240168776363134\n",
            "Epoch 8 average test loss : 0.00191937992349267\n",
            "Epoch 8 test accuracy : 0.9704\n",
            "Epoch 9 average train loss : 0.0009889062494039536\n",
            "Epoch 9 average test loss : 0.002243825001642108\n",
            "Epoch 9 test accuracy : 0.9662\n",
            "hidden layer 2 = 50\n",
            "Epoch 0 average train loss : 0.0032070165034383535\n",
            "Epoch 0 average test loss : 0.0017683174228295684\n",
            "Epoch 0 test accuracy : 0.9585\n",
            "Epoch 1 average train loss : 0.001806882442906499\n",
            "Epoch 1 average test loss : 0.0018369776662439108\n",
            "Epoch 1 test accuracy : 0.9606\n",
            "Epoch 2 average train loss : 0.0015450804494321346\n",
            "Epoch 2 average test loss : 0.00174704659730196\n",
            "Epoch 2 test accuracy : 0.9628\n",
            "Epoch 3 average train loss : 0.001365027274005115\n",
            "Epoch 3 average test loss : 0.001674982369877398\n",
            "Epoch 3 test accuracy : 0.9667\n",
            "Epoch 4 average train loss : 0.0012477274285629392\n",
            "Epoch 4 average test loss : 0.0019551264122128487\n",
            "Epoch 4 test accuracy : 0.9649\n",
            "Epoch 5 average train loss : 0.0011451044119894505\n",
            "Epoch 5 average test loss : 0.0017482353141531348\n",
            "Epoch 5 test accuracy : 0.9686\n",
            "Epoch 6 average train loss : 0.0010565088596194983\n",
            "Epoch 6 average test loss : 0.002085630316287279\n",
            "Epoch 6 test accuracy : 0.9664\n",
            "Epoch 7 average train loss : 0.0010414986172690988\n",
            "Epoch 7 average test loss : 0.001903786207549274\n",
            "Epoch 7 test accuracy : 0.9687\n",
            "Epoch 8 average train loss : 0.0010187359293922782\n",
            "Epoch 8 average test loss : 0.00176851951982826\n",
            "Epoch 8 test accuracy : 0.9687\n",
            "Epoch 9 average train loss : 0.0009079006849788129\n",
            "Epoch 9 average test loss : 0.002070894930511713\n",
            "Epoch 9 test accuracy : 0.9703\n",
            "hidden layer 2 = 100\n",
            "Epoch 0 average train loss : 0.003284076927229762\n",
            "Epoch 0 average test loss : 0.002800850896164775\n",
            "Epoch 0 test accuracy : 0.932\n",
            "Epoch 1 average train loss : 0.0019119029166176915\n",
            "Epoch 1 average test loss : 0.0018742341781035066\n",
            "Epoch 1 test accuracy : 0.96\n",
            "Epoch 2 average train loss : 0.001573424437083304\n",
            "Epoch 2 average test loss : 0.0020380907226353884\n",
            "Epoch 2 test accuracy : 0.9594\n",
            "Epoch 3 average train loss : 0.0015205598901957273\n",
            "Epoch 3 average test loss : 0.0018653125734999776\n",
            "Epoch 3 test accuracy : 0.9649\n",
            "Epoch 4 average train loss : 0.0013338029384613037\n",
            "Epoch 4 average test loss : 0.0023358005564659834\n",
            "Epoch 4 test accuracy : 0.9569\n",
            "Epoch 5 average train loss : 0.001237006625160575\n",
            "Epoch 5 average test loss : 0.0017553726211190224\n",
            "Epoch 5 test accuracy : 0.9663\n",
            "Epoch 6 average train loss : 0.0011324016377329826\n",
            "Epoch 6 average test loss : 0.0018013690132647753\n",
            "Epoch 6 test accuracy : 0.9692\n",
            "Epoch 7 average train loss : 0.0011651696404442191\n",
            "Epoch 7 average test loss : 0.001967158168554306\n",
            "Epoch 7 test accuracy : 0.9666\n",
            "Epoch 8 average train loss : 0.0010216032387688756\n",
            "Epoch 8 average test loss : 0.0018510870868340135\n",
            "Epoch 8 test accuracy : 0.9701\n",
            "Epoch 9 average train loss : 0.0010322374291718006\n",
            "Epoch 9 average test loss : 0.002271112520247698\n",
            "Epoch 9 test accuracy : 0.9652\n",
            "hidden layer 2 = 150\n",
            "Epoch 0 average train loss : 0.003324691904708743\n",
            "Epoch 0 average test loss : 0.0027080930303782225\n",
            "Epoch 0 test accuracy : 0.9396\n",
            "Epoch 1 average train loss : 0.0019783247262239456\n",
            "Epoch 1 average test loss : 0.0018968185177072883\n",
            "Epoch 1 test accuracy : 0.9608\n",
            "Epoch 2 average train loss : 0.0017079944955185056\n",
            "Epoch 2 average test loss : 0.002167415339499712\n",
            "Epoch 2 test accuracy : 0.9592\n",
            "Epoch 3 average train loss : 0.001536896568723023\n",
            "Epoch 3 average test loss : 0.0020696178544312716\n",
            "Epoch 3 test accuracy : 0.962\n",
            "Epoch 4 average train loss : 0.0014521172270178795\n",
            "Epoch 4 average test loss : 0.0018558490555733442\n",
            "Epoch 4 test accuracy : 0.9641\n",
            "Epoch 5 average train loss : 0.0012747404398396611\n",
            "Epoch 5 average test loss : 0.0023222267627716064\n",
            "Epoch 5 test accuracy : 0.9621\n",
            "Epoch 6 average train loss : 0.0013508821139112115\n",
            "Epoch 6 average test loss : 0.0020991989877074957\n",
            "Epoch 6 test accuracy : 0.9657\n",
            "Epoch 7 average train loss : 0.0011521312408149242\n",
            "Epoch 7 average test loss : 0.0019454259891062975\n",
            "Epoch 7 test accuracy : 0.9702\n",
            "Epoch 8 average train loss : 0.0010905454400926828\n",
            "Epoch 8 average test loss : 0.0020828205160796642\n",
            "Epoch 8 test accuracy : 0.9683\n",
            "Epoch 9 average train loss : 0.0011676732683554292\n",
            "Epoch 9 average test loss : 0.0019263433059677482\n",
            "Epoch 9 test accuracy : 0.9704\n"
          ]
        }
      ]
    },
    {
      "cell_type": "code",
      "source": [
        "#optimal solution\n",
        "#Aktivacijksa = ReLu\n",
        "#Learning rate = 0.001\n",
        "#Batch size = 75\n",
        "#Optimiser = Adam\n",
        "#Hidden layer 1 size =  150\n",
        "#Hidden layer 2 size = 150\n",
        "#trained them one by one due to compexity and the time of execution\n",
        "\n",
        "#the biggest impact on the convergence has the learning rate and optimiser\n",
        "\n",
        "import matplotlib.pyplot as plt\n",
        "hidden1 = [50, 100, 150]\n",
        "hidden1_max_acc = [0.9658, 0.9697, 0.9704]\n",
        "\n",
        "hidden2 = [50, 100, 150]\n",
        "hidden2_max_acc = [0.9703, 0.9701, 0.9704]\n",
        "\n",
        "plt.plot(hidden1,hidden1_max_acc, label = f'change of accuracy in relation to the size of hidden layer 1')\n",
        "plt.plot(hidden2,hidden2_max_acc, label = f'change of accuracy in relation to the size of hidden layer 2')\n",
        "plt.legend()\n",
        "plt.show()\n"
      ],
      "metadata": {
        "id": "OD6XBWu4J40D",
        "colab": {
          "base_uri": "https://localhost:8080/",
          "height": 430
        },
        "outputId": "acc02257-c400-4886-bf18-864e2287596b"
      },
      "id": "OD6XBWu4J40D",
      "execution_count": 25,
      "outputs": [
        {
          "output_type": "display_data",
          "data": {
            "text/plain": [
              "<Figure size 640x480 with 1 Axes>"
            ],
            "image/png": "[encoded data removed]"
          },
          "metadata": {}
        }
      ]
    },
    {
      "cell_type": "markdown",
      "id": "7ca51440-2dab-4c55-bccb-eb3a53d18a84",
      "metadata": {
        "id": "7ca51440-2dab-4c55-bccb-eb3a53d18a84"
      },
      "source": [
        "Notice that when we evaluated the network on the test set, we've set the network to the evaluation mode using `.eval()` method. This is again best practice according to [the official documentation](https://pytorch.org/docs/stable/notes/autograd.html#evaluation-mode-nn-module-eval).\n",
        "\n",
        "**Task**\n",
        "\n",
        "1. Experiment with different activation functions, learning rates, batch sizes, optimizers, and architectures.\n",
        "   * What is the best combination of them?\n",
        "   * Which of them has the highest impact on the accuracy and rate of convergence?\n",
        "   * How about the size of hidden layers? Make the comparisons and draw the appropriate plots.\n",
        "\n",
        "*Remember to re-evaluate the previous two cells in order to properly apply changes.*"
      ]
    },
    {
      "cell_type": "markdown",
      "id": "04e32f8a",
      "metadata": {
        "collapsed": true,
        "id": "04e32f8a"
      },
      "source": [
        "# 6 Support Vector Machine\n",
        "## 6.1 Kernels\n",
        "Support Vector Machine can [use different kernels](https://en.wikipedia.org/wiki/Kernel_method): linear, radial basis function, polynomial, sigmoid, etc. The difference between some of them can be seen after running the code below that uses a classical example. Besides the usual packages, the *sklearn* package is also used here."
      ]
    },
    {
      "cell_type": "code",
      "execution_count": null,
      "id": "915b4bb9",
      "metadata": {
        "colab": {
          "base_uri": "https://localhost:8080/",
          "height": 1000
        },
        "id": "915b4bb9",
        "outputId": "174e685f-9e4d-4d96-d974-41c2f337e2fe"
      },
      "outputs": [
        {
          "output_type": "stream",
          "name": "stdout",
          "text": [
            "Accuracy: 82.00%\n"
          ]
        },
        {
          "output_type": "display_data",
          "data": {
            "text/plain": [
              "<Figure size 640x480 with 1 Axes>"
            ],
            "image/png": "[encoded data removed]"
          },
          "metadata": {}
        },
        {
          "output_type": "stream",
          "name": "stdout",
          "text": [
            "Accuracy: 82.67%\n"
          ]
        },
        {
          "output_type": "display_data",
          "data": {
            "text/plain": [
              "<Figure size 640x480 with 1 Axes>"
            ],
            "image/png": "[encoded data removed]"
          },
          "metadata": {}
        },
        {
          "output_type": "stream",
          "name": "stdout",
          "text": [
            "Accuracy: 81.33%\n"
          ]
        },
        {
          "output_type": "display_data",
          "data": {
            "text/plain": [
              "<Figure size 640x480 with 1 Axes>"
            ],
            "image/png": "[encoded data removed]"
          },
          "metadata": {}
        }
      ],
      "source": [
        "import numpy as np\n",
        "import matplotlib.pyplot as plt\n",
        "from sklearn import svm, datasets\n",
        "\n",
        "#take the well-known iris dataset\n",
        "iris = datasets.load_iris()\n",
        "#we will use only sepal length and width\n",
        "features=iris.data[:, :2]\n",
        "classes=iris.target\n",
        "\n",
        "#plot points\n",
        "x1, x2=features[:, 0], features[:, 1]\n",
        "x_min, x_max=x1.min()-1, x1.max()+1\n",
        "y_min, y_max=x2.min()-1, x2.max()+1\n",
        "h=0.02\n",
        "plot_x, plot_y=np.meshgrid(np.arange(x_min, x_max, h), np.arange(y_min, y_max, h))\n",
        "\n",
        "#regularization\n",
        "C=1.0\n",
        "models=(svm.SVC(kernel=\"linear\", C=C),\n",
        "          svm.SVC(kernel=\"rbf\", gamma=0.7, C=C),\n",
        "          svm.SVC(kernel=\"poly\", degree=3, C=C))\n",
        "models=(model.fit(features, classes) for model in models)\n",
        "\n",
        "# title for the plots\n",
        "titles = (\"Linear kernel\", \"RBF kernel\", \"Polynomial (degree 3) kernel\")\n",
        "\n",
        "\n",
        "for model, title in zip(models, titles):\n",
        "    points=model.predict(np.c_[plot_x.ravel(), plot_y.ravel()]).reshape(plot_x.shape)\n",
        "    plt.contourf(plot_x, plot_y, points, cmap=plt.cm.coolwarm, alpha=0.8)\n",
        "    plt.xlim(plot_x.min(), plot_x.max())\n",
        "    plt.ylim(plot_y.min(), plot_y.max())\n",
        "    plt.xlabel(\"Sepal length\")\n",
        "    plt.ylabel(\"Sepal width\")\n",
        "    plt.title(title)\n",
        "\n",
        "    predicted=model.predict(features);\n",
        "    print(\"Accuracy: %.2lf%%\"%(100*np.sum(classes==predicted)/classes.size))\n",
        "\n",
        "    plt.scatter(x1, x2, c=classes, cmap=plt.cm.coolwarm, s=20, edgecolors=\"k\")\n",
        "\n",
        "    plt.show()"
      ]
    },
    {
      "cell_type": "code",
      "source": [
        "#take the well-known iris dataset\n",
        "iris = datasets.load_iris()\n",
        "#we will use only sepal length and width\n",
        "features=iris.data[:, 2:]\n",
        "classes=iris.target\n",
        "\n",
        "#plot points\n",
        "x1, x2=features[:, 0], features[:, 1]\n",
        "x_min, x_max=x1.min()-1, x1.max()+1\n",
        "y_min, y_max=x2.min()-1, x2.max()+1\n",
        "h=0.02\n",
        "plot_x, plot_y=np.meshgrid(np.arange(x_min, x_max, h), np.arange(y_min, y_max, h))\n",
        "\n",
        "#regularization\n",
        "C=1.0\n",
        "models=(svm.SVC(kernel=\"linear\", C=C),\n",
        "          svm.SVC(kernel=\"rbf\", gamma=0.7, C=C),\n",
        "          svm.SVC(kernel=\"poly\", degree=3, C=C))\n",
        "models=(model.fit(features, classes) for model in models)\n",
        "\n",
        "# title for the plots\n",
        "titles = (\"Linear kernel\", \"RBF kernel\", \"Polynomial (degree 3) kernel\")\n",
        "\n",
        "\n",
        "for model, title in zip(models, titles):\n",
        "    points=model.predict(np.c_[plot_x.ravel(), plot_y.ravel()]).reshape(plot_x.shape)\n",
        "    plt.contourf(plot_x, plot_y, points, cmap=plt.cm.coolwarm, alpha=0.8)\n",
        "    plt.xlim(plot_x.min(), plot_x.max())\n",
        "    plt.ylim(plot_y.min(), plot_y.max())\n",
        "    plt.xlabel(\"Sepal length\")\n",
        "    plt.ylabel(\"Sepal width\")\n",
        "    plt.title(title)\n",
        "\n",
        "    predicted=model.predict(features);\n",
        "    print(\"Accuracy: %.2lf%%\"%(100*np.sum(classes==predicted)/classes.size))\n",
        "\n",
        "    plt.scatter(x1, x2, c=classes, cmap=plt.cm.coolwarm, s=20, edgecolors=\"k\")\n",
        "\n",
        "    plt.show()"
      ],
      "metadata": {
        "colab": {
          "base_uri": "https://localhost:8080/",
          "height": 1000
        },
        "id": "dsJnyGtOYlgg",
        "outputId": "ebf81b4d-6386-4dbb-874d-6b596bbba13c"
      },
      "id": "dsJnyGtOYlgg",
      "execution_count": null,
      "outputs": [
        {
          "output_type": "stream",
          "name": "stdout",
          "text": [
            "Accuracy: 96.67%\n"
          ]
        },
        {
          "output_type": "display_data",
          "data": {
            "text/plain": [
              "<Figure size 640x480 with 1 Axes>"
            ],
            "image/png": "[encoded data removed]"
          },
          "metadata": {}
        },
        {
          "output_type": "stream",
          "name": "stdout",
          "text": [
            "Accuracy: 96.67%\n"
          ]
        },
        {
          "output_type": "display_data",
          "data": {
            "text/plain": [
              "<Figure size 640x480 with 1 Axes>"
            ],
            "image/png": "[encoded data removed]"
          },
          "metadata": {}
        },
        {
          "output_type": "stream",
          "name": "stdout",
          "text": [
            "Accuracy: 96.67%\n"
          ]
        },
        {
          "output_type": "display_data",
          "data": {
            "text/plain": [
              "<Figure size 640x480 with 1 Axes>"
            ],
            "image/png": "[encoded data removed]"
          },
          "metadata": {}
        }
      ]
    },
    {
      "cell_type": "markdown",
      "source": [
        "When other 2 features of the dataset are used we get higher accuracy ( above 95%)\n"
      ],
      "metadata": {
        "id": "S2MCVyLoYwSh"
      },
      "id": "S2MCVyLoYwSh"
    },
    {
      "cell_type": "code",
      "source": [
        "from sklearn.model_selection import train_test_split\n",
        "\n",
        "iris = datasets.load_iris()\n",
        "\n",
        "X = iris.data\n",
        "y = iris.target\n",
        "\n",
        "X_train, X_test, y_train, y_test = train_test_split(X, y, test_size=0.3, random_state=42)\n",
        "\n",
        "C=1.0\n",
        "models=(svm.SVC(kernel=\"linear\", C=C),\n",
        "          svm.SVC(kernel=\"rbf\", gamma=0.7, C=C),\n",
        "          svm.SVC(kernel=\"poly\", degree=3, C=C))\n",
        "models=(model.fit(X_train, y_train) for model in models)\n",
        "\n",
        "titles = (\"Linear kernel\", \"RBF kernel\", \"Polynomial (degree 3) kernel\")\n",
        "\n",
        "\n",
        "for model, title in zip(models, titles):\n",
        "\n",
        "    predicted=model.predict(X_test);\n",
        "    print(\"Accuracy: %.2lf%%\"%(100*np.sum(y_test==predicted)/y_test.size))\n",
        "    print(title + \"\\n\")"
      ],
      "metadata": {
        "colab": {
          "base_uri": "https://localhost:8080/"
        },
        "id": "irdgrZtwY83N",
        "outputId": "cf442bec-22be-464c-b2da-6ed3e4ad6a94"
      },
      "id": "irdgrZtwY83N",
      "execution_count": null,
      "outputs": [
        {
          "output_type": "stream",
          "name": "stdout",
          "text": [
            "Accuracy: 100.00%\n",
            "Linear kernel\n",
            "\n",
            "Accuracy: 100.00%\n",
            "RBF kernel\n",
            "\n",
            "Accuracy: 97.78%\n",
            "Polynomial (degree 3) kernel\n",
            "\n"
          ]
        }
      ]
    },
    {
      "cell_type": "markdown",
      "source": [
        "Linear and RBF kernel give the best accuracy for this problem."
      ],
      "metadata": {
        "id": "S85tEpSkdADm"
      },
      "id": "S85tEpSkdADm"
    },
    {
      "cell_type": "markdown",
      "id": "71810e65",
      "metadata": {
        "id": "71810e65"
      },
      "source": [
        "**Tasks**\n",
        "\n",
        "1. What accuracies are achieved when other two features of the iris dataset are used?\n",
        "2. Split the iris dataset into a training and testing part with the ratio 70/30, fit the SVM model with different kernels on the training part, and test it on the testing part. Which kernel gives the highest accuracy? Take care of the target class distribution in the training/testing part.\n",
        "3. Make the code below give over 90% accuracy."
      ]
    },
    {
      "cell_type": "code",
      "execution_count": null,
      "id": "4086458b",
      "metadata": {
        "colab": {
          "base_uri": "https://localhost:8080/"
        },
        "id": "4086458b",
        "outputId": "1713f57c-20e8-40b5-a205-c94c78a37a22"
      },
      "outputs": [
        {
          "output_type": "stream",
          "name": "stdout",
          "text": [
            "Accuracy: 94.75%\n"
          ]
        }
      ],
      "source": [
        "import numpy as np\n",
        "from sklearn import svm, datasets\n",
        "\n",
        "n1=400\n",
        "n2=400\n",
        "\n",
        "class1=(np.tile(np.random.uniform(low=0.0, high=1, size=n2).reshape((n2, 1)), (1, 2))+3/2)*\\\n",
        "np.array([(np.cos(a), np.sin(a)) for a in np.random.uniform(low=2, high=8, size=n2)])+np.tile(np.array([[3/2, 0]]), (n1, 1))\n",
        "\n",
        "class2=(np.tile(np.random.uniform(low=0.0, high=1, size=n2).reshape((n2, 1)), (1, 2))+3/2)*\\\n",
        "np.array([(np.cos(a), np.sin(a)) for a in np.random.uniform(low=-1, high=4, size=n2)])\n",
        "x=np.vstack((class1, class2))\n",
        "y=np.concatenate((np.ones((n1)), 2*np.ones((n2))))\n",
        "\n",
        "idx=np.random.permutation(y.size)\n",
        "\n",
        "x=x[idx, :]\n",
        "y=y[idx]\n",
        "\n",
        "s=round((n1+n2)/2)\n",
        "\n",
        "x_train=x[:s, :]\n",
        "y_train=y[:s]\n",
        "\n",
        "x_test=x[s:, :]\n",
        "y_test=y[s:]\n",
        "\n",
        "#EDIT from ....\n",
        "model= svm.SVC(kernel=\"rbf\", C = 1.9, gamma = 10)\n",
        "model.fit(x_train, y_train)\n",
        "#...TO HERE\n",
        "\n",
        "predicted=model.predict(x_test);\n",
        "print(\"Accuracy: %.2lf%%\"%(100*np.sum(y_test==predicted)/y_test.size))\n"
      ]
    },
    {
      "cell_type": "markdown",
      "id": "ee9d129e",
      "metadata": {
        "id": "ee9d129e"
      },
      "source": [
        "## 6.2 Wine dataset\n",
        "Here we are going to make some experiments with the wine dataset to see how features can [affect](https://en.wikipedia.org/wiki/Feature_selection) the classification.\n",
        "\n",
        "**Tasks**\n",
        "\n",
        "1. Which SVM kernel will achieve the highest accuracy when all features are used?\n",
        "2. If you can use **only one** feature and any kernel to achieve highest possible accuracy, which feature and kernel would that be?\n",
        "3. If you can use **only two** features and any kernel to achieve highest possible accuracy, which feature and kernel would that be?\n",
        "4. How do you explain the results?"
      ]
    },
    {
      "cell_type": "code",
      "execution_count": null,
      "id": "49ca5e41",
      "metadata": {
        "colab": {
          "base_uri": "https://localhost:8080/"
        },
        "id": "49ca5e41",
        "outputId": "0339ffd9-aa2c-40ad-f64c-a0915a68dde9"
      },
      "outputs": [
        {
          "output_type": "stream",
          "name": "stdout",
          "text": [
            "Accuracy: 92.13%\n",
            "Linear kernel\n",
            "\n",
            "Accuracy: 61.80%\n",
            "RBF kernel\n",
            "\n",
            "Accuracy: 61.80%\n",
            "Polynomial kernel\n",
            "\n"
          ]
        }
      ],
      "source": [
        "from sklearn.datasets import load_wine\n",
        "wine=load_wine()\n",
        "x=wine.data\n",
        "y=wine.target\n",
        "idx=np.random.permutation(y.size)\n",
        "x=x[idx, :]\n",
        "y=y[idx]\n",
        "\n",
        "#all features\n",
        "features_idx=range(x.shape[1])\n",
        "#only some of the features\n",
        "#features_idx=[0, 1]\n",
        "\n",
        "x=x[:, features_idx]\n",
        "\n",
        "s=round(y.size/2)\n",
        "\n",
        "x_train=x[:s, :]\n",
        "y_train=y[:s]\n",
        "\n",
        "x_test=x[s:, :]\n",
        "y_test=y[s:]\n",
        "\n",
        "C=1.0\n",
        "models=(svm.SVC(kernel=\"linear\", C=C),\n",
        "          svm.SVC(kernel=\"rbf\", C=C),\n",
        "          svm.SVC(kernel=\"poly\", C=C))\n",
        "models=(model.fit(x_train, y_train) for model in models)\n",
        "\n",
        "titles = (\"Linear kernel\", \"RBF kernel\", \"Polynomial kernel\")\n",
        "\n",
        "for model, title in zip(models, titles):\n",
        "\n",
        "    predicted=model.predict(x_test);\n",
        "    print(\"Accuracy: %.2lf%%\"%(100*np.sum(y_test==predicted)/y_test.size))\n",
        "    print(title + \"\\n\")\n"
      ]
    },
    {
      "cell_type": "markdown",
      "source": [
        "the best accuracy is achived for the Linear kernel"
      ],
      "metadata": {
        "id": "twrdG5oyeecT"
      },
      "id": "twrdG5oyeecT"
    },
    {
      "cell_type": "code",
      "source": [
        "from sklearn.datasets import load_wine\n",
        "wine=load_wine()\n",
        "x=wine.data\n",
        "y=wine.target\n",
        "idx=np.random.permutation(y.size)\n",
        "x=x[idx, :]\n",
        "y=y[idx]\n",
        "\n",
        "best_index = -1\n",
        "best_kernel = \"\"\n",
        "best_acc = 0\n",
        "for i in range(x.shape[1]):\n",
        "  x1=x.copy()\n",
        "  features_idx=i\n",
        "  x1=x1[:, features_idx].reshape(len(x1),1)\n",
        "\n",
        "  s=round(y.size/2)\n",
        "\n",
        "  x_train=x1[:s]\n",
        "  y_train=y[:s]\n",
        "\n",
        "  x_test=x1[s:]\n",
        "  y_test=y[s:]\n",
        "\n",
        "  C=1.0\n",
        "  models=(svm.SVC(kernel=\"linear\", C=C),\n",
        "            svm.SVC(kernel=\"rbf\", C=C),\n",
        "            svm.SVC(kernel=\"poly\", C=C))\n",
        "  models=(model.fit(x_train, y_train) for model in models)\n",
        "\n",
        "  titles = (\"Linear kernel\", \"RBF kernel\", \"Polynomial kernel\")\n",
        "\n",
        "  for model, title in zip(models, titles):\n",
        "\n",
        "      predicted=model.predict(x_test);\n",
        "      if 100*np.sum(y_test==predicted)/y_test.size > best_acc:\n",
        "        best_acc = 100*np.sum(y_test==predicted)/y_test.size\n",
        "        best_index = i\n",
        "        best_kernel = title\n",
        "print(f'best accuracy = {best_acc}, best feature = {best_index +1}, best kernel = {best_kernel}')"
      ],
      "metadata": {
        "colab": {
          "base_uri": "https://localhost:8080/"
        },
        "id": "QzJRiVifelmb",
        "outputId": "3074f8ca-b4a7-41b6-8e9e-9ba831f3c657"
      },
      "id": "QzJRiVifelmb",
      "execution_count": null,
      "outputs": [
        {
          "output_type": "stream",
          "name": "stdout",
          "text": [
            "best accuracy = 83.14606741573034, best feature = 10, best kernel = RBF kernel\n"
          ]
        }
      ]
    },
    {
      "cell_type": "code",
      "source": [
        "wine=load_wine()\n",
        "x=wine.data\n",
        "y=wine.target\n",
        "idx=np.random.permutation(y.size)\n",
        "x=x[idx, :]\n",
        "y=y[idx]\n",
        "\n",
        "best_index = (-1,-1)\n",
        "best_kernel = \"\"\n",
        "best_acc = 0\n",
        "for i in range(x.shape[1]):\n",
        "  for j in range(x.shape[1]):\n",
        "    if i == j:\n",
        "      continue\n",
        "    x1=x.copy()\n",
        "    features_idx=[i,j]\n",
        "    x1=x1[:, features_idx]\n",
        "\n",
        "    s=round(y.size/2)\n",
        "\n",
        "    x_train=x1[:s, :]\n",
        "    y_train=y[:s]\n",
        "\n",
        "    x_test=x1[s:, :]\n",
        "    y_test=y[s:]\n",
        "\n",
        "    C=1.0\n",
        "    models=(svm.SVC(kernel=\"linear\", C=C),\n",
        "              svm.SVC(kernel=\"rbf\", C=C),\n",
        "              svm.SVC(kernel=\"poly\", C=C))\n",
        "    models=(model.fit(x_train, y_train) for model in models)\n",
        "\n",
        "    titles = (\"Linear kernel\", \"RBF kernel\", \"Polynomial kernel\")\n",
        "\n",
        "    for model, title in zip(models, titles):\n",
        "\n",
        "        predicted=model.predict(x_test);\n",
        "        if 100*np.sum(y_test==predicted)/y_test.size > best_acc:\n",
        "          best_acc = 100*np.sum(y_test==predicted)/y_test.size\n",
        "          best_index = (i,j)\n",
        "          best_kernel = title\n",
        "print(f'best accuracy = {best_acc}, best feature = {(best_index[0] + 1, best_index[1]+1)}, best kernel = {best_kernel}')"
      ],
      "metadata": {
        "colab": {
          "base_uri": "https://localhost:8080/"
        },
        "id": "wlYKJLmqiWVz",
        "outputId": "a6b57686-80ca-4a3c-e082-d876a8a78b97"
      },
      "id": "wlYKJLmqiWVz",
      "execution_count": null,
      "outputs": [
        {
          "output_type": "stream",
          "name": "stdout",
          "text": [
            "best accuracy = 93.25842696629213, best feature = (7, 10), best kernel = RBF kernel\n"
          ]
        }
      ]
    },
    {
      "cell_type": "markdown",
      "source": [
        "RBF kernel seems to be preforming the best on this dataset and more so when we use 2 features instead of one wich is expected because we have more relevant information for the dataset."
      ],
      "metadata": {
        "id": "LCtjQSI4eMv-"
      },
      "id": "LCtjQSI4eMv-"
    },
    {
      "cell_type": "markdown",
      "id": "ba7d2025",
      "metadata": {
        "id": "ba7d2025"
      },
      "source": [
        "## 6.3 Speed\n",
        "SVM is really great, but it has an important disadvantage with respect to neural networks in general. Here we are going to demonstrate it.\n",
        "\n",
        "**Tasks**\n",
        "1. Run the code below for various dataset sizes and each time store the time needed for the model to fit.\n",
        "2. Draw a plot that shows the influence of dataset size on execution time.\n",
        "3. How would you model the influence?"
      ]
    },
    {
      "cell_type": "code",
      "execution_count": null,
      "id": "d40cf8c0",
      "metadata": {
        "colab": {
          "base_uri": "https://localhost:8080/",
          "height": 452
        },
        "id": "d40cf8c0",
        "outputId": "7b56dd08-d649-4fcc-f2ca-a7df55c8c0e7"
      },
      "outputs": [
        {
          "output_type": "display_data",
          "data": {
            "text/plain": [
              "<Figure size 640x480 with 1 Axes>"
            ],
            "image/png": "[encoded data removed]"
          },
          "metadata": {}
        }
      ],
      "source": [
        "import matplotlib.pyplot as plt\n",
        "import numpy as np\n",
        "from sklearn import svm, datasets\n",
        "import time;\n",
        "\n",
        "def create_data(n1, n2):\n",
        "    class1=np.c_[np.random.normal(0, 1, size=n1), np.random.normal(0, 1, size=n1)]\n",
        "    class2=np.c_[np.random.normal(2, 1, size=n2), np.random.normal(0, 1, size=n2)]\n",
        "    x=np.vstack((class1, class2))\n",
        "    y=np.concatenate((np.ones((n1)), 2*np.ones((n2))))\n",
        "\n",
        "    return x, y\n",
        "\n",
        "ds = [1000,5000,7500,10000,15000,25000]\n",
        "time1= []\n",
        "for el in ds:\n",
        "  x, y=create_data(el, el)\n",
        "  start=time.time()\n",
        "  model.fit(x, y)\n",
        "  end=time.time();\n",
        "  t=end-start\n",
        "  time1.append(t)\n",
        "\n",
        "ds = [el*2 for el in ds]\n",
        "plt.title(\"influence of dataset size on execution time\")\n",
        "plt.plot(ds,time1)\n",
        "plt.show()\n"
      ]
    },
    {
      "cell_type": "markdown",
      "source": [
        "the dependency seems to be close to exponential so when working on some larger dataset I would not use all data but make a representative population and fit the model with that, on smaller datasets where every information is important i would use all data. If using a smaller population from a large dataset is not an option for some reason than more computing power is required and there is no simple way around that."
      ],
      "metadata": {
        "id": "TazjcS-LnDNs"
      },
      "id": "TazjcS-LnDNs"
    }
  ],
  "metadata": {
    "kernelspec": {
      "display_name": "Python 3",
      "name": "python3"
    },
    "language_info": {
      "codemirror_mode": {
        "name": "ipython",
        "version": 3
      },
      "file_extension": ".py",
      "mimetype": "text/x-python",
      "name": "python",
      "nbconvert_exporter": "python",
      "pygments_lexer": "ipython3",
      "version": "3.11.5"
    },
    "colab": {
      "provenance": [],
      "gpuType": "T4"
    },
    "accelerator": "GPU"
  },
  "nbformat": 4,
  "nbformat_minor": 5
}